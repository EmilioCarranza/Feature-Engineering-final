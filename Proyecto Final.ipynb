{
 "cells": [
  {
   "cell_type": "markdown",
   "id": "75c34544",
   "metadata": {},
   "source": [
    "El objetivo es obtener un modelo del comportamiento de un sistema de tanques de almacenamiento.\n",
    "\n",
    "En esta proyecto se comparan diferentes métodos en el tratamiento de datos para obtener mejores resultados en el entrenamiento de un futuro modelo con redes neuronales."
   ]
  },
  {
   "cell_type": "code",
   "execution_count": 2,
   "id": "6f264a3b",
   "metadata": {},
   "outputs": [],
   "source": [
    "import pandas as pd\n",
    "import numpy as np"
   ]
  },
  {
   "cell_type": "markdown",
   "id": "869df457",
   "metadata": {},
   "source": [
    "El archivo adjunto data.csv  Descargar data.csv, contiene datos ordenados por fechas de dos variables: x1 y x2. De los cuales se sabe que ninguna observación puede ser menor o igual que cero.\n",
    "\n",
    "### 1.- Separe las variables x1 y x2 en columnas diferentes."
   ]
  },
  {
   "cell_type": "code",
   "execution_count": 3,
   "id": "ced0b0df",
   "metadata": {},
   "outputs": [],
   "source": [
    "df = pd.read_csv('data.csv')"
   ]
  },
  {
   "cell_type": "code",
   "execution_count": 4,
   "id": "27568e8b",
   "metadata": {},
   "outputs": [
    {
     "name": "stdout",
     "output_type": "stream",
     "text": [
      "<class 'pandas.core.frame.DataFrame'>\n",
      "RangeIndex: 6571 entries, 0 to 6570\n",
      "Data columns (total 3 columns):\n",
      " #   Column  Non-Null Count  Dtype  \n",
      "---  ------  --------------  -----  \n",
      " 0   nombre  6571 non-null   object \n",
      " 1   Fecha   6571 non-null   object \n",
      " 2   data    6362 non-null   float64\n",
      "dtypes: float64(1), object(2)\n",
      "memory usage: 154.1+ KB\n"
     ]
    }
   ],
   "source": [
    "df.info()"
   ]
  },
  {
   "cell_type": "code",
   "execution_count": 5,
   "id": "05c61ac4",
   "metadata": {},
   "outputs": [
    {
     "data": {
      "text/html": [
       "<div>\n",
       "<style scoped>\n",
       "    .dataframe tbody tr th:only-of-type {\n",
       "        vertical-align: middle;\n",
       "    }\n",
       "\n",
       "    .dataframe tbody tr th {\n",
       "        vertical-align: top;\n",
       "    }\n",
       "\n",
       "    .dataframe thead th {\n",
       "        text-align: right;\n",
       "    }\n",
       "</style>\n",
       "<table border=\"1\" class=\"dataframe\">\n",
       "  <thead>\n",
       "    <tr style=\"text-align: right;\">\n",
       "      <th></th>\n",
       "      <th>data</th>\n",
       "    </tr>\n",
       "  </thead>\n",
       "  <tbody>\n",
       "    <tr>\n",
       "      <th>count</th>\n",
       "      <td>6362.000000</td>\n",
       "    </tr>\n",
       "    <tr>\n",
       "      <th>mean</th>\n",
       "      <td>20.972573</td>\n",
       "    </tr>\n",
       "    <tr>\n",
       "      <th>std</th>\n",
       "      <td>32.232027</td>\n",
       "    </tr>\n",
       "    <tr>\n",
       "      <th>min</th>\n",
       "      <td>-73.790000</td>\n",
       "    </tr>\n",
       "    <tr>\n",
       "      <th>25%</th>\n",
       "      <td>3.400000</td>\n",
       "    </tr>\n",
       "    <tr>\n",
       "      <th>50%</th>\n",
       "      <td>9.440000</td>\n",
       "    </tr>\n",
       "    <tr>\n",
       "      <th>75%</th>\n",
       "      <td>25.600000</td>\n",
       "    </tr>\n",
       "    <tr>\n",
       "      <th>max</th>\n",
       "      <td>299.740000</td>\n",
       "    </tr>\n",
       "  </tbody>\n",
       "</table>\n",
       "</div>"
      ],
      "text/plain": [
       "              data\n",
       "count  6362.000000\n",
       "mean     20.972573\n",
       "std      32.232027\n",
       "min     -73.790000\n",
       "25%       3.400000\n",
       "50%       9.440000\n",
       "75%      25.600000\n",
       "max     299.740000"
      ]
     },
     "execution_count": 5,
     "metadata": {},
     "output_type": "execute_result"
    }
   ],
   "source": [
    "df.describe()"
   ]
  },
  {
   "cell_type": "code",
   "execution_count": 6,
   "id": "67c8b9a7",
   "metadata": {},
   "outputs": [
    {
     "data": {
      "text/html": [
       "<div>\n",
       "<style scoped>\n",
       "    .dataframe tbody tr th:only-of-type {\n",
       "        vertical-align: middle;\n",
       "    }\n",
       "\n",
       "    .dataframe tbody tr th {\n",
       "        vertical-align: top;\n",
       "    }\n",
       "\n",
       "    .dataframe thead th {\n",
       "        text-align: right;\n",
       "    }\n",
       "</style>\n",
       "<table border=\"1\" class=\"dataframe\">\n",
       "  <thead>\n",
       "    <tr style=\"text-align: right;\">\n",
       "      <th></th>\n",
       "      <th>nombre</th>\n",
       "      <th>Fecha</th>\n",
       "      <th>data</th>\n",
       "    </tr>\n",
       "  </thead>\n",
       "  <tbody>\n",
       "    <tr>\n",
       "      <th>0</th>\n",
       "      <td>x1</td>\n",
       "      <td>2006-01-01</td>\n",
       "      <td>6.05</td>\n",
       "    </tr>\n",
       "    <tr>\n",
       "      <th>1</th>\n",
       "      <td>x1</td>\n",
       "      <td>2006-01-02</td>\n",
       "      <td>4.72</td>\n",
       "    </tr>\n",
       "    <tr>\n",
       "      <th>2</th>\n",
       "      <td>x1</td>\n",
       "      <td>2006-01-03</td>\n",
       "      <td>4.46</td>\n",
       "    </tr>\n",
       "    <tr>\n",
       "      <th>3</th>\n",
       "      <td>x1</td>\n",
       "      <td>2006-01-04</td>\n",
       "      <td>34.74</td>\n",
       "    </tr>\n",
       "    <tr>\n",
       "      <th>4</th>\n",
       "      <td>x1</td>\n",
       "      <td>2006-01-05</td>\n",
       "      <td>1.91</td>\n",
       "    </tr>\n",
       "  </tbody>\n",
       "</table>\n",
       "</div>"
      ],
      "text/plain": [
       "  nombre       Fecha   data\n",
       "0     x1  2006-01-01   6.05\n",
       "1     x1  2006-01-02   4.72\n",
       "2     x1  2006-01-03   4.46\n",
       "3     x1  2006-01-04  34.74\n",
       "4     x1  2006-01-05   1.91"
      ]
     },
     "execution_count": 6,
     "metadata": {},
     "output_type": "execute_result"
    }
   ],
   "source": [
    "df.head()"
   ]
  },
  {
   "cell_type": "code",
   "execution_count": 7,
   "id": "d5f6d4ae",
   "metadata": {},
   "outputs": [
    {
     "data": {
      "text/html": [
       "<div>\n",
       "<style scoped>\n",
       "    .dataframe tbody tr th:only-of-type {\n",
       "        vertical-align: middle;\n",
       "    }\n",
       "\n",
       "    .dataframe tbody tr th {\n",
       "        vertical-align: top;\n",
       "    }\n",
       "\n",
       "    .dataframe thead th {\n",
       "        text-align: right;\n",
       "    }\n",
       "</style>\n",
       "<table border=\"1\" class=\"dataframe\">\n",
       "  <thead>\n",
       "    <tr style=\"text-align: right;\">\n",
       "      <th></th>\n",
       "      <th>nombre</th>\n",
       "      <th>Fecha</th>\n",
       "      <th>data</th>\n",
       "    </tr>\n",
       "  </thead>\n",
       "  <tbody>\n",
       "    <tr>\n",
       "      <th>3053</th>\n",
       "      <td>x1</td>\n",
       "      <td>2014-05-12</td>\n",
       "      <td>NaN</td>\n",
       "    </tr>\n",
       "    <tr>\n",
       "      <th>3054</th>\n",
       "      <td>x1</td>\n",
       "      <td>2014-05-13</td>\n",
       "      <td>NaN</td>\n",
       "    </tr>\n",
       "    <tr>\n",
       "      <th>3055</th>\n",
       "      <td>x1</td>\n",
       "      <td>2014-05-14</td>\n",
       "      <td>NaN</td>\n",
       "    </tr>\n",
       "    <tr>\n",
       "      <th>3056</th>\n",
       "      <td>x1</td>\n",
       "      <td>2014-05-15</td>\n",
       "      <td>NaN</td>\n",
       "    </tr>\n",
       "    <tr>\n",
       "      <th>3068</th>\n",
       "      <td>x1</td>\n",
       "      <td>2014-05-27</td>\n",
       "      <td>NaN</td>\n",
       "    </tr>\n",
       "    <tr>\n",
       "      <th>...</th>\n",
       "      <td>...</td>\n",
       "      <td>...</td>\n",
       "      <td>...</td>\n",
       "    </tr>\n",
       "    <tr>\n",
       "      <th>5839</th>\n",
       "      <td>x2</td>\n",
       "      <td>27/12/2012</td>\n",
       "      <td>NaN</td>\n",
       "    </tr>\n",
       "    <tr>\n",
       "      <th>5840</th>\n",
       "      <td>x2</td>\n",
       "      <td>28/12/2012</td>\n",
       "      <td>NaN</td>\n",
       "    </tr>\n",
       "    <tr>\n",
       "      <th>5841</th>\n",
       "      <td>x2</td>\n",
       "      <td>29/12/2012</td>\n",
       "      <td>NaN</td>\n",
       "    </tr>\n",
       "    <tr>\n",
       "      <th>5842</th>\n",
       "      <td>x2</td>\n",
       "      <td>30/12/2012</td>\n",
       "      <td>NaN</td>\n",
       "    </tr>\n",
       "    <tr>\n",
       "      <th>5843</th>\n",
       "      <td>x2</td>\n",
       "      <td>31/12/2012</td>\n",
       "      <td>NaN</td>\n",
       "    </tr>\n",
       "  </tbody>\n",
       "</table>\n",
       "<p>209 rows × 3 columns</p>\n",
       "</div>"
      ],
      "text/plain": [
       "     nombre       Fecha  data\n",
       "3053     x1  2014-05-12   NaN\n",
       "3054     x1  2014-05-13   NaN\n",
       "3055     x1  2014-05-14   NaN\n",
       "3056     x1  2014-05-15   NaN\n",
       "3068     x1  2014-05-27   NaN\n",
       "...     ...         ...   ...\n",
       "5839     x2  27/12/2012   NaN\n",
       "5840     x2  28/12/2012   NaN\n",
       "5841     x2  29/12/2012   NaN\n",
       "5842     x2  30/12/2012   NaN\n",
       "5843     x2  31/12/2012   NaN\n",
       "\n",
       "[209 rows x 3 columns]"
      ]
     },
     "execution_count": 7,
     "metadata": {},
     "output_type": "execute_result"
    }
   ],
   "source": [
    "df[df.data.isnull()]"
   ]
  },
  {
   "cell_type": "code",
   "execution_count": 8,
   "id": "fd676d3a",
   "metadata": {},
   "outputs": [
    {
     "data": {
      "text/html": [
       "<div>\n",
       "<style scoped>\n",
       "    .dataframe tbody tr th:only-of-type {\n",
       "        vertical-align: middle;\n",
       "    }\n",
       "\n",
       "    .dataframe tbody tr th {\n",
       "        vertical-align: top;\n",
       "    }\n",
       "\n",
       "    .dataframe thead th {\n",
       "        text-align: right;\n",
       "    }\n",
       "</style>\n",
       "<table border=\"1\" class=\"dataframe\">\n",
       "  <thead>\n",
       "    <tr style=\"text-align: right;\">\n",
       "      <th></th>\n",
       "      <th>nombre</th>\n",
       "      <th>Fecha</th>\n",
       "      <th>data</th>\n",
       "    </tr>\n",
       "  </thead>\n",
       "  <tbody>\n",
       "    <tr>\n",
       "      <th>0</th>\n",
       "      <td>x1</td>\n",
       "      <td>2006-01-01</td>\n",
       "      <td>6.05</td>\n",
       "    </tr>\n",
       "    <tr>\n",
       "      <th>1</th>\n",
       "      <td>x1</td>\n",
       "      <td>2006-01-02</td>\n",
       "      <td>4.72</td>\n",
       "    </tr>\n",
       "    <tr>\n",
       "      <th>2</th>\n",
       "      <td>x1</td>\n",
       "      <td>2006-01-03</td>\n",
       "      <td>4.46</td>\n",
       "    </tr>\n",
       "    <tr>\n",
       "      <th>3</th>\n",
       "      <td>x1</td>\n",
       "      <td>2006-01-04</td>\n",
       "      <td>34.74</td>\n",
       "    </tr>\n",
       "    <tr>\n",
       "      <th>4</th>\n",
       "      <td>x1</td>\n",
       "      <td>2006-01-05</td>\n",
       "      <td>1.91</td>\n",
       "    </tr>\n",
       "    <tr>\n",
       "      <th>...</th>\n",
       "      <td>...</td>\n",
       "      <td>...</td>\n",
       "      <td>...</td>\n",
       "    </tr>\n",
       "    <tr>\n",
       "      <th>6566</th>\n",
       "      <td>x2</td>\n",
       "      <td>2014-12-27</td>\n",
       "      <td>-13.30</td>\n",
       "    </tr>\n",
       "    <tr>\n",
       "      <th>6567</th>\n",
       "      <td>x2</td>\n",
       "      <td>2014-12-28</td>\n",
       "      <td>16.20</td>\n",
       "    </tr>\n",
       "    <tr>\n",
       "      <th>6568</th>\n",
       "      <td>x2</td>\n",
       "      <td>2014-12-29</td>\n",
       "      <td>5.10</td>\n",
       "    </tr>\n",
       "    <tr>\n",
       "      <th>6569</th>\n",
       "      <td>x2</td>\n",
       "      <td>2014-12-30</td>\n",
       "      <td>4.90</td>\n",
       "    </tr>\n",
       "    <tr>\n",
       "      <th>6570</th>\n",
       "      <td>x2</td>\n",
       "      <td>2014-12-31</td>\n",
       "      <td>3.70</td>\n",
       "    </tr>\n",
       "  </tbody>\n",
       "</table>\n",
       "<p>6571 rows × 3 columns</p>\n",
       "</div>"
      ],
      "text/plain": [
       "     nombre      Fecha   data\n",
       "0        x1 2006-01-01   6.05\n",
       "1        x1 2006-01-02   4.72\n",
       "2        x1 2006-01-03   4.46\n",
       "3        x1 2006-01-04  34.74\n",
       "4        x1 2006-01-05   1.91\n",
       "...     ...        ...    ...\n",
       "6566     x2 2014-12-27 -13.30\n",
       "6567     x2 2014-12-28  16.20\n",
       "6568     x2 2014-12-29   5.10\n",
       "6569     x2 2014-12-30   4.90\n",
       "6570     x2 2014-12-31   3.70\n",
       "\n",
       "[6571 rows x 3 columns]"
      ]
     },
     "execution_count": 8,
     "metadata": {},
     "output_type": "execute_result"
    }
   ],
   "source": [
    "fx1 = pd.to_datetime(df['Fecha'], format='%Y-%m-%d', errors='coerce')\n",
    "fx2 = pd.to_datetime(df['Fecha'], format='%d/%m/%Y', errors='coerce')\n",
    "df['Fecha'] = fx1.combine_first(fx2)\n",
    "df"
   ]
  },
  {
   "cell_type": "code",
   "execution_count": 9,
   "id": "a2693e81",
   "metadata": {},
   "outputs": [
    {
     "data": {
      "text/plain": [
       "2012-06-02    2\n",
       "2009-09-10    2\n",
       "2010-02-15    2\n",
       "2013-07-20    2\n",
       "2013-12-05    2\n",
       "             ..\n",
       "2009-10-18    2\n",
       "2009-01-18    2\n",
       "2014-05-13    1\n",
       "2014-05-15    1\n",
       "2014-05-28    1\n",
       "Name: Fecha, Length: 3287, dtype: int64"
      ]
     },
     "execution_count": 9,
     "metadata": {},
     "output_type": "execute_result"
    }
   ],
   "source": [
    "df.Fecha.value_counts()"
   ]
  },
  {
   "cell_type": "code",
   "execution_count": 10,
   "id": "5571861c",
   "metadata": {},
   "outputs": [],
   "source": [
    "dfx1 = df[df.nombre=='x1']\n",
    "dfx2 = df[df.nombre=='x2']"
   ]
  },
  {
   "cell_type": "code",
   "execution_count": 11,
   "id": "cf5789d8",
   "metadata": {},
   "outputs": [
    {
     "data": {
      "text/html": [
       "<div>\n",
       "<style scoped>\n",
       "    .dataframe tbody tr th:only-of-type {\n",
       "        vertical-align: middle;\n",
       "    }\n",
       "\n",
       "    .dataframe tbody tr th {\n",
       "        vertical-align: top;\n",
       "    }\n",
       "\n",
       "    .dataframe thead th {\n",
       "        text-align: right;\n",
       "    }\n",
       "</style>\n",
       "<table border=\"1\" class=\"dataframe\">\n",
       "  <thead>\n",
       "    <tr style=\"text-align: right;\">\n",
       "      <th></th>\n",
       "      <th>nombre_x1</th>\n",
       "      <th>Fecha</th>\n",
       "      <th>data_x1</th>\n",
       "      <th>nombre_x2</th>\n",
       "      <th>data_x2</th>\n",
       "    </tr>\n",
       "  </thead>\n",
       "  <tbody>\n",
       "    <tr>\n",
       "      <th>0</th>\n",
       "      <td>x1</td>\n",
       "      <td>2006-01-01</td>\n",
       "      <td>6.05</td>\n",
       "      <td>x2</td>\n",
       "      <td>9.22</td>\n",
       "    </tr>\n",
       "    <tr>\n",
       "      <th>1</th>\n",
       "      <td>x1</td>\n",
       "      <td>2006-01-02</td>\n",
       "      <td>4.72</td>\n",
       "      <td>x2</td>\n",
       "      <td>-13.57</td>\n",
       "    </tr>\n",
       "    <tr>\n",
       "      <th>2</th>\n",
       "      <td>x1</td>\n",
       "      <td>2006-01-03</td>\n",
       "      <td>4.46</td>\n",
       "      <td>x2</td>\n",
       "      <td>5.95</td>\n",
       "    </tr>\n",
       "    <tr>\n",
       "      <th>3</th>\n",
       "      <td>x1</td>\n",
       "      <td>2006-01-04</td>\n",
       "      <td>34.74</td>\n",
       "      <td>x2</td>\n",
       "      <td>3.26</td>\n",
       "    </tr>\n",
       "    <tr>\n",
       "      <th>4</th>\n",
       "      <td>x1</td>\n",
       "      <td>2006-01-05</td>\n",
       "      <td>1.91</td>\n",
       "      <td>x2</td>\n",
       "      <td>7.34</td>\n",
       "    </tr>\n",
       "    <tr>\n",
       "      <th>...</th>\n",
       "      <td>...</td>\n",
       "      <td>...</td>\n",
       "      <td>...</td>\n",
       "      <td>...</td>\n",
       "      <td>...</td>\n",
       "    </tr>\n",
       "    <tr>\n",
       "      <th>3282</th>\n",
       "      <td>x1</td>\n",
       "      <td>2014-12-27</td>\n",
       "      <td>13.16</td>\n",
       "      <td>x2</td>\n",
       "      <td>-13.30</td>\n",
       "    </tr>\n",
       "    <tr>\n",
       "      <th>3283</th>\n",
       "      <td>x1</td>\n",
       "      <td>2014-12-28</td>\n",
       "      <td>8.50</td>\n",
       "      <td>x2</td>\n",
       "      <td>16.20</td>\n",
       "    </tr>\n",
       "    <tr>\n",
       "      <th>3284</th>\n",
       "      <td>x1</td>\n",
       "      <td>2014-12-29</td>\n",
       "      <td>11.03</td>\n",
       "      <td>x2</td>\n",
       "      <td>5.10</td>\n",
       "    </tr>\n",
       "    <tr>\n",
       "      <th>3285</th>\n",
       "      <td>x1</td>\n",
       "      <td>2014-12-30</td>\n",
       "      <td>21.33</td>\n",
       "      <td>x2</td>\n",
       "      <td>4.90</td>\n",
       "    </tr>\n",
       "    <tr>\n",
       "      <th>3286</th>\n",
       "      <td>x1</td>\n",
       "      <td>2014-12-31</td>\n",
       "      <td>4.13</td>\n",
       "      <td>x2</td>\n",
       "      <td>3.70</td>\n",
       "    </tr>\n",
       "  </tbody>\n",
       "</table>\n",
       "<p>3287 rows × 5 columns</p>\n",
       "</div>"
      ],
      "text/plain": [
       "     nombre_x1      Fecha  data_x1 nombre_x2  data_x2\n",
       "0           x1 2006-01-01     6.05        x2     9.22\n",
       "1           x1 2006-01-02     4.72        x2   -13.57\n",
       "2           x1 2006-01-03     4.46        x2     5.95\n",
       "3           x1 2006-01-04    34.74        x2     3.26\n",
       "4           x1 2006-01-05     1.91        x2     7.34\n",
       "...        ...        ...      ...       ...      ...\n",
       "3282        x1 2014-12-27    13.16        x2   -13.30\n",
       "3283        x1 2014-12-28     8.50        x2    16.20\n",
       "3284        x1 2014-12-29    11.03        x2     5.10\n",
       "3285        x1 2014-12-30    21.33        x2     4.90\n",
       "3286        x1 2014-12-31     4.13        x2     3.70\n",
       "\n",
       "[3287 rows x 5 columns]"
      ]
     },
     "execution_count": 11,
     "metadata": {},
     "output_type": "execute_result"
    }
   ],
   "source": [
    "df2 = pd.merge(dfx1, dfx2, on='Fecha', suffixes=('_x1', '_x2'), how='outer')\n",
    "df2"
   ]
  },
  {
   "cell_type": "code",
   "execution_count": 12,
   "id": "4438e15a",
   "metadata": {},
   "outputs": [
    {
     "data": {
      "text/html": [
       "<div>\n",
       "<style scoped>\n",
       "    .dataframe tbody tr th:only-of-type {\n",
       "        vertical-align: middle;\n",
       "    }\n",
       "\n",
       "    .dataframe tbody tr th {\n",
       "        vertical-align: top;\n",
       "    }\n",
       "\n",
       "    .dataframe thead th {\n",
       "        text-align: right;\n",
       "    }\n",
       "</style>\n",
       "<table border=\"1\" class=\"dataframe\">\n",
       "  <thead>\n",
       "    <tr style=\"text-align: right;\">\n",
       "      <th></th>\n",
       "      <th>Fecha</th>\n",
       "      <th>nombre_x1</th>\n",
       "      <th>data_x1</th>\n",
       "      <th>nombre_x2</th>\n",
       "      <th>data_x2</th>\n",
       "    </tr>\n",
       "  </thead>\n",
       "  <tbody>\n",
       "    <tr>\n",
       "      <th>0</th>\n",
       "      <td>2006-01-01</td>\n",
       "      <td>x1</td>\n",
       "      <td>6.05</td>\n",
       "      <td>x2</td>\n",
       "      <td>9.22</td>\n",
       "    </tr>\n",
       "    <tr>\n",
       "      <th>1</th>\n",
       "      <td>2006-01-02</td>\n",
       "      <td>x1</td>\n",
       "      <td>4.72</td>\n",
       "      <td>x2</td>\n",
       "      <td>-13.57</td>\n",
       "    </tr>\n",
       "    <tr>\n",
       "      <th>2</th>\n",
       "      <td>2006-01-03</td>\n",
       "      <td>x1</td>\n",
       "      <td>4.46</td>\n",
       "      <td>x2</td>\n",
       "      <td>5.95</td>\n",
       "    </tr>\n",
       "    <tr>\n",
       "      <th>3</th>\n",
       "      <td>2006-01-04</td>\n",
       "      <td>x1</td>\n",
       "      <td>34.74</td>\n",
       "      <td>x2</td>\n",
       "      <td>3.26</td>\n",
       "    </tr>\n",
       "    <tr>\n",
       "      <th>4</th>\n",
       "      <td>2006-01-05</td>\n",
       "      <td>x1</td>\n",
       "      <td>1.91</td>\n",
       "      <td>x2</td>\n",
       "      <td>7.34</td>\n",
       "    </tr>\n",
       "    <tr>\n",
       "      <th>...</th>\n",
       "      <td>...</td>\n",
       "      <td>...</td>\n",
       "      <td>...</td>\n",
       "      <td>...</td>\n",
       "      <td>...</td>\n",
       "    </tr>\n",
       "    <tr>\n",
       "      <th>3282</th>\n",
       "      <td>2014-12-27</td>\n",
       "      <td>x1</td>\n",
       "      <td>13.16</td>\n",
       "      <td>x2</td>\n",
       "      <td>-13.30</td>\n",
       "    </tr>\n",
       "    <tr>\n",
       "      <th>3283</th>\n",
       "      <td>2014-12-28</td>\n",
       "      <td>x1</td>\n",
       "      <td>8.50</td>\n",
       "      <td>x2</td>\n",
       "      <td>16.20</td>\n",
       "    </tr>\n",
       "    <tr>\n",
       "      <th>3284</th>\n",
       "      <td>2014-12-29</td>\n",
       "      <td>x1</td>\n",
       "      <td>11.03</td>\n",
       "      <td>x2</td>\n",
       "      <td>5.10</td>\n",
       "    </tr>\n",
       "    <tr>\n",
       "      <th>3285</th>\n",
       "      <td>2014-12-30</td>\n",
       "      <td>x1</td>\n",
       "      <td>21.33</td>\n",
       "      <td>x2</td>\n",
       "      <td>4.90</td>\n",
       "    </tr>\n",
       "    <tr>\n",
       "      <th>3286</th>\n",
       "      <td>2014-12-31</td>\n",
       "      <td>x1</td>\n",
       "      <td>4.13</td>\n",
       "      <td>x2</td>\n",
       "      <td>3.70</td>\n",
       "    </tr>\n",
       "  </tbody>\n",
       "</table>\n",
       "<p>3287 rows × 5 columns</p>\n",
       "</div>"
      ],
      "text/plain": [
       "          Fecha nombre_x1  data_x1 nombre_x2  data_x2\n",
       "0    2006-01-01        x1     6.05        x2     9.22\n",
       "1    2006-01-02        x1     4.72        x2   -13.57\n",
       "2    2006-01-03        x1     4.46        x2     5.95\n",
       "3    2006-01-04        x1    34.74        x2     3.26\n",
       "4    2006-01-05        x1     1.91        x2     7.34\n",
       "...         ...       ...      ...       ...      ...\n",
       "3282 2014-12-27        x1    13.16        x2   -13.30\n",
       "3283 2014-12-28        x1     8.50        x2    16.20\n",
       "3284 2014-12-29        x1    11.03        x2     5.10\n",
       "3285 2014-12-30        x1    21.33        x2     4.90\n",
       "3286 2014-12-31        x1     4.13        x2     3.70\n",
       "\n",
       "[3287 rows x 5 columns]"
      ]
     },
     "execution_count": 12,
     "metadata": {},
     "output_type": "execute_result"
    }
   ],
   "source": [
    "df2 = df2[['Fecha', 'nombre_x1', 'data_x1', 'nombre_x2', 'data_x2']]\n",
    "df2"
   ]
  },
  {
   "cell_type": "code",
   "execution_count": 13,
   "id": "655c9e25",
   "metadata": {},
   "outputs": [
    {
     "data": {
      "text/plain": [
       "3284"
      ]
     },
     "execution_count": 13,
     "metadata": {},
     "output_type": "execute_result"
    }
   ],
   "source": [
    "len(dfx2)"
   ]
  },
  {
   "cell_type": "markdown",
   "id": "d384f898",
   "metadata": {},
   "source": [
    "### 2.- Elija y justifique un método de imputación para los datos perdidos y los datos menores o iguales que cero."
   ]
  },
  {
   "cell_type": "code",
   "execution_count": 14,
   "id": "79c2cfa7",
   "metadata": {},
   "outputs": [
    {
     "data": {
      "text/html": [
       "<div>\n",
       "<style scoped>\n",
       "    .dataframe tbody tr th:only-of-type {\n",
       "        vertical-align: middle;\n",
       "    }\n",
       "\n",
       "    .dataframe tbody tr th {\n",
       "        vertical-align: top;\n",
       "    }\n",
       "\n",
       "    .dataframe thead th {\n",
       "        text-align: right;\n",
       "    }\n",
       "</style>\n",
       "<table border=\"1\" class=\"dataframe\">\n",
       "  <thead>\n",
       "    <tr style=\"text-align: right;\">\n",
       "      <th></th>\n",
       "      <th>Fecha</th>\n",
       "      <th>nombre_x1</th>\n",
       "      <th>data_x1</th>\n",
       "      <th>nombre_x2</th>\n",
       "      <th>data_x2</th>\n",
       "    </tr>\n",
       "  </thead>\n",
       "  <tbody>\n",
       "    <tr>\n",
       "      <th>3054</th>\n",
       "      <td>2014-05-13</td>\n",
       "      <td>x1</td>\n",
       "      <td>NaN</td>\n",
       "      <td>NaN</td>\n",
       "      <td>NaN</td>\n",
       "    </tr>\n",
       "    <tr>\n",
       "      <th>3056</th>\n",
       "      <td>2014-05-15</td>\n",
       "      <td>x1</td>\n",
       "      <td>NaN</td>\n",
       "      <td>NaN</td>\n",
       "      <td>NaN</td>\n",
       "    </tr>\n",
       "    <tr>\n",
       "      <th>3069</th>\n",
       "      <td>2014-05-28</td>\n",
       "      <td>x1</td>\n",
       "      <td>NaN</td>\n",
       "      <td>NaN</td>\n",
       "      <td>NaN</td>\n",
       "    </tr>\n",
       "  </tbody>\n",
       "</table>\n",
       "</div>"
      ],
      "text/plain": [
       "          Fecha nombre_x1  data_x1 nombre_x2  data_x2\n",
       "3054 2014-05-13        x1      NaN       NaN      NaN\n",
       "3056 2014-05-15        x1      NaN       NaN      NaN\n",
       "3069 2014-05-28        x1      NaN       NaN      NaN"
      ]
     },
     "execution_count": 14,
     "metadata": {},
     "output_type": "execute_result"
    }
   ],
   "source": [
    "dfx1[dfx1.Fecha=='2014-05-13\t']\n",
    "df2[df2.nombre_x2.isnull()]"
   ]
  },
  {
   "cell_type": "code",
   "execution_count": 15,
   "id": "3b05d88f",
   "metadata": {},
   "outputs": [
    {
     "data": {
      "text/html": [
       "<div>\n",
       "<style scoped>\n",
       "    .dataframe tbody tr th:only-of-type {\n",
       "        vertical-align: middle;\n",
       "    }\n",
       "\n",
       "    .dataframe tbody tr th {\n",
       "        vertical-align: top;\n",
       "    }\n",
       "\n",
       "    .dataframe thead th {\n",
       "        text-align: right;\n",
       "    }\n",
       "</style>\n",
       "<table border=\"1\" class=\"dataframe\">\n",
       "  <thead>\n",
       "    <tr style=\"text-align: right;\">\n",
       "      <th></th>\n",
       "      <th>Fecha</th>\n",
       "      <th>nombre_x1</th>\n",
       "      <th>data_x1</th>\n",
       "      <th>nombre_x2</th>\n",
       "      <th>data_x2</th>\n",
       "    </tr>\n",
       "  </thead>\n",
       "  <tbody>\n",
       "    <tr>\n",
       "      <th>22</th>\n",
       "      <td>2006-01-23</td>\n",
       "      <td>x1</td>\n",
       "      <td>-3.81</td>\n",
       "      <td>x2</td>\n",
       "      <td>-2.81</td>\n",
       "    </tr>\n",
       "    <tr>\n",
       "      <th>41</th>\n",
       "      <td>2006-02-11</td>\n",
       "      <td>x1</td>\n",
       "      <td>-1.41</td>\n",
       "      <td>x2</td>\n",
       "      <td>8.98</td>\n",
       "    </tr>\n",
       "    <tr>\n",
       "      <th>61</th>\n",
       "      <td>2006-03-03</td>\n",
       "      <td>x1</td>\n",
       "      <td>-1.91</td>\n",
       "      <td>x2</td>\n",
       "      <td>-5.01</td>\n",
       "    </tr>\n",
       "    <tr>\n",
       "      <th>63</th>\n",
       "      <td>2006-03-05</td>\n",
       "      <td>x1</td>\n",
       "      <td>-1.76</td>\n",
       "      <td>x2</td>\n",
       "      <td>6.66</td>\n",
       "    </tr>\n",
       "    <tr>\n",
       "      <th>66</th>\n",
       "      <td>2006-03-08</td>\n",
       "      <td>x1</td>\n",
       "      <td>-0.26</td>\n",
       "      <td>x2</td>\n",
       "      <td>-1.13</td>\n",
       "    </tr>\n",
       "    <tr>\n",
       "      <th>...</th>\n",
       "      <td>...</td>\n",
       "      <td>...</td>\n",
       "      <td>...</td>\n",
       "      <td>...</td>\n",
       "      <td>...</td>\n",
       "    </tr>\n",
       "    <tr>\n",
       "      <th>3246</th>\n",
       "      <td>2014-11-21</td>\n",
       "      <td>x1</td>\n",
       "      <td>NaN</td>\n",
       "      <td>x2</td>\n",
       "      <td>2.80</td>\n",
       "    </tr>\n",
       "    <tr>\n",
       "      <th>3247</th>\n",
       "      <td>2014-11-22</td>\n",
       "      <td>x1</td>\n",
       "      <td>NaN</td>\n",
       "      <td>x2</td>\n",
       "      <td>9.50</td>\n",
       "    </tr>\n",
       "    <tr>\n",
       "      <th>3248</th>\n",
       "      <td>2014-11-23</td>\n",
       "      <td>x1</td>\n",
       "      <td>NaN</td>\n",
       "      <td>x2</td>\n",
       "      <td>6.90</td>\n",
       "    </tr>\n",
       "    <tr>\n",
       "      <th>3256</th>\n",
       "      <td>2014-12-01</td>\n",
       "      <td>x1</td>\n",
       "      <td>NaN</td>\n",
       "      <td>x2</td>\n",
       "      <td>-12.20</td>\n",
       "    </tr>\n",
       "    <tr>\n",
       "      <th>3257</th>\n",
       "      <td>2014-12-02</td>\n",
       "      <td>x1</td>\n",
       "      <td>NaN</td>\n",
       "      <td>x2</td>\n",
       "      <td>10.60</td>\n",
       "    </tr>\n",
       "  </tbody>\n",
       "</table>\n",
       "<p>182 rows × 5 columns</p>\n",
       "</div>"
      ],
      "text/plain": [
       "          Fecha nombre_x1  data_x1 nombre_x2  data_x2\n",
       "22   2006-01-23        x1    -3.81        x2    -2.81\n",
       "41   2006-02-11        x1    -1.41        x2     8.98\n",
       "61   2006-03-03        x1    -1.91        x2    -5.01\n",
       "63   2006-03-05        x1    -1.76        x2     6.66\n",
       "66   2006-03-08        x1    -0.26        x2    -1.13\n",
       "...         ...       ...      ...       ...      ...\n",
       "3246 2014-11-21        x1      NaN        x2     2.80\n",
       "3247 2014-11-22        x1      NaN        x2     9.50\n",
       "3248 2014-11-23        x1      NaN        x2     6.90\n",
       "3256 2014-12-01        x1      NaN        x2   -12.20\n",
       "3257 2014-12-02        x1      NaN        x2    10.60\n",
       "\n",
       "[182 rows x 5 columns]"
      ]
     },
     "execution_count": 15,
     "metadata": {},
     "output_type": "execute_result"
    }
   ],
   "source": [
    "df2[(df2.data_x1.isnull()) | (df2.data_x1<= 0)]"
   ]
  },
  {
   "cell_type": "code",
   "execution_count": 16,
   "id": "a27051a6",
   "metadata": {},
   "outputs": [
    {
     "data": {
      "text/html": [
       "<div>\n",
       "<style scoped>\n",
       "    .dataframe tbody tr th:only-of-type {\n",
       "        vertical-align: middle;\n",
       "    }\n",
       "\n",
       "    .dataframe tbody tr th {\n",
       "        vertical-align: top;\n",
       "    }\n",
       "\n",
       "    .dataframe thead th {\n",
       "        text-align: right;\n",
       "    }\n",
       "</style>\n",
       "<table border=\"1\" class=\"dataframe\">\n",
       "  <thead>\n",
       "    <tr style=\"text-align: right;\">\n",
       "      <th></th>\n",
       "      <th>Fecha</th>\n",
       "      <th>nombre_x1</th>\n",
       "      <th>data_x1</th>\n",
       "      <th>nombre_x2</th>\n",
       "      <th>data_x2</th>\n",
       "    </tr>\n",
       "  </thead>\n",
       "  <tbody>\n",
       "    <tr>\n",
       "      <th>1</th>\n",
       "      <td>2006-01-02</td>\n",
       "      <td>x1</td>\n",
       "      <td>4.72</td>\n",
       "      <td>x2</td>\n",
       "      <td>-13.57</td>\n",
       "    </tr>\n",
       "    <tr>\n",
       "      <th>8</th>\n",
       "      <td>2006-01-09</td>\n",
       "      <td>x1</td>\n",
       "      <td>13.90</td>\n",
       "      <td>x2</td>\n",
       "      <td>-4.86</td>\n",
       "    </tr>\n",
       "    <tr>\n",
       "      <th>12</th>\n",
       "      <td>2006-01-13</td>\n",
       "      <td>x1</td>\n",
       "      <td>13.21</td>\n",
       "      <td>x2</td>\n",
       "      <td>-0.90</td>\n",
       "    </tr>\n",
       "    <tr>\n",
       "      <th>15</th>\n",
       "      <td>2006-01-16</td>\n",
       "      <td>x1</td>\n",
       "      <td>9.77</td>\n",
       "      <td>x2</td>\n",
       "      <td>-1.30</td>\n",
       "    </tr>\n",
       "    <tr>\n",
       "      <th>22</th>\n",
       "      <td>2006-01-23</td>\n",
       "      <td>x1</td>\n",
       "      <td>-3.81</td>\n",
       "      <td>x2</td>\n",
       "      <td>-2.81</td>\n",
       "    </tr>\n",
       "    <tr>\n",
       "      <th>...</th>\n",
       "      <td>...</td>\n",
       "      <td>...</td>\n",
       "      <td>...</td>\n",
       "      <td>...</td>\n",
       "      <td>...</td>\n",
       "    </tr>\n",
       "    <tr>\n",
       "      <th>3269</th>\n",
       "      <td>2014-12-14</td>\n",
       "      <td>x1</td>\n",
       "      <td>19.12</td>\n",
       "      <td>x2</td>\n",
       "      <td>-0.70</td>\n",
       "    </tr>\n",
       "    <tr>\n",
       "      <th>3270</th>\n",
       "      <td>2014-12-15</td>\n",
       "      <td>x1</td>\n",
       "      <td>28.92</td>\n",
       "      <td>x2</td>\n",
       "      <td>-14.00</td>\n",
       "    </tr>\n",
       "    <tr>\n",
       "      <th>3272</th>\n",
       "      <td>2014-12-17</td>\n",
       "      <td>x1</td>\n",
       "      <td>19.37</td>\n",
       "      <td>x2</td>\n",
       "      <td>-2.40</td>\n",
       "    </tr>\n",
       "    <tr>\n",
       "      <th>3277</th>\n",
       "      <td>2014-12-22</td>\n",
       "      <td>x1</td>\n",
       "      <td>12.12</td>\n",
       "      <td>x2</td>\n",
       "      <td>-19.60</td>\n",
       "    </tr>\n",
       "    <tr>\n",
       "      <th>3282</th>\n",
       "      <td>2014-12-27</td>\n",
       "      <td>x1</td>\n",
       "      <td>13.16</td>\n",
       "      <td>x2</td>\n",
       "      <td>-13.30</td>\n",
       "    </tr>\n",
       "  </tbody>\n",
       "</table>\n",
       "<p>717 rows × 5 columns</p>\n",
       "</div>"
      ],
      "text/plain": [
       "          Fecha nombre_x1  data_x1 nombre_x2  data_x2\n",
       "1    2006-01-02        x1     4.72        x2   -13.57\n",
       "8    2006-01-09        x1    13.90        x2    -4.86\n",
       "12   2006-01-13        x1    13.21        x2    -0.90\n",
       "15   2006-01-16        x1     9.77        x2    -1.30\n",
       "22   2006-01-23        x1    -3.81        x2    -2.81\n",
       "...         ...       ...      ...       ...      ...\n",
       "3269 2014-12-14        x1    19.12        x2    -0.70\n",
       "3270 2014-12-15        x1    28.92        x2   -14.00\n",
       "3272 2014-12-17        x1    19.37        x2    -2.40\n",
       "3277 2014-12-22        x1    12.12        x2   -19.60\n",
       "3282 2014-12-27        x1    13.16        x2   -13.30\n",
       "\n",
       "[717 rows x 5 columns]"
      ]
     },
     "execution_count": 16,
     "metadata": {},
     "output_type": "execute_result"
    }
   ],
   "source": [
    "df2[(df2.data_x2.isnull()) | (df2.data_x2<= 0)]"
   ]
  },
  {
   "cell_type": "code",
   "execution_count": 17,
   "id": "ae4f267f",
   "metadata": {},
   "outputs": [],
   "source": [
    "# Completar valores nombre_x2\n",
    "df2['nombre_x2'] = df2['nombre_x2'].fillna('x2')\n",
    "# Completar NaN con media\n",
    "df2['data_x1'] = df2['data_x1'].fillna(df2['data_x1'].median())\n",
    "df2['data_x2'] = df2['data_x2'].fillna(df2['data_x2'].median())\n",
    "# Cambiar valores negativos a positivos\n",
    "df2['data_x1'] = df2['data_x1'].mask(df2['data_x1']<0,df2['data_x1'].mean())\n",
    "df2['data_x2'] = df2['data_x2'].mask(df2['data_x2']<0,df2['data_x2'].mean())\n",
    "# Completar valores 0 por positivo anterior.\n",
    "df2['data_x1'] = df2['data_x1'].replace(to_replace=0,method='ffill')\n",
    "df2['data_x2'] = df2['data_x2'].replace(to_replace=0,method='ffill')"
   ]
  },
  {
   "cell_type": "code",
   "execution_count": 18,
   "id": "a15806c8",
   "metadata": {},
   "outputs": [
    {
     "data": {
      "text/html": [
       "<div>\n",
       "<style scoped>\n",
       "    .dataframe tbody tr th:only-of-type {\n",
       "        vertical-align: middle;\n",
       "    }\n",
       "\n",
       "    .dataframe tbody tr th {\n",
       "        vertical-align: top;\n",
       "    }\n",
       "\n",
       "    .dataframe thead th {\n",
       "        text-align: right;\n",
       "    }\n",
       "</style>\n",
       "<table border=\"1\" class=\"dataframe\">\n",
       "  <thead>\n",
       "    <tr style=\"text-align: right;\">\n",
       "      <th></th>\n",
       "      <th>Fecha</th>\n",
       "      <th>nombre_x1</th>\n",
       "      <th>data_x1</th>\n",
       "      <th>nombre_x2</th>\n",
       "      <th>data_x2</th>\n",
       "    </tr>\n",
       "  </thead>\n",
       "  <tbody>\n",
       "    <tr>\n",
       "      <th>0</th>\n",
       "      <td>False</td>\n",
       "      <td>False</td>\n",
       "      <td>False</td>\n",
       "      <td>False</td>\n",
       "      <td>False</td>\n",
       "    </tr>\n",
       "    <tr>\n",
       "      <th>1</th>\n",
       "      <td>False</td>\n",
       "      <td>False</td>\n",
       "      <td>False</td>\n",
       "      <td>False</td>\n",
       "      <td>False</td>\n",
       "    </tr>\n",
       "    <tr>\n",
       "      <th>2</th>\n",
       "      <td>False</td>\n",
       "      <td>False</td>\n",
       "      <td>False</td>\n",
       "      <td>False</td>\n",
       "      <td>False</td>\n",
       "    </tr>\n",
       "    <tr>\n",
       "      <th>3</th>\n",
       "      <td>False</td>\n",
       "      <td>False</td>\n",
       "      <td>False</td>\n",
       "      <td>False</td>\n",
       "      <td>False</td>\n",
       "    </tr>\n",
       "    <tr>\n",
       "      <th>4</th>\n",
       "      <td>False</td>\n",
       "      <td>False</td>\n",
       "      <td>False</td>\n",
       "      <td>False</td>\n",
       "      <td>False</td>\n",
       "    </tr>\n",
       "    <tr>\n",
       "      <th>...</th>\n",
       "      <td>...</td>\n",
       "      <td>...</td>\n",
       "      <td>...</td>\n",
       "      <td>...</td>\n",
       "      <td>...</td>\n",
       "    </tr>\n",
       "    <tr>\n",
       "      <th>3282</th>\n",
       "      <td>False</td>\n",
       "      <td>False</td>\n",
       "      <td>False</td>\n",
       "      <td>False</td>\n",
       "      <td>False</td>\n",
       "    </tr>\n",
       "    <tr>\n",
       "      <th>3283</th>\n",
       "      <td>False</td>\n",
       "      <td>False</td>\n",
       "      <td>False</td>\n",
       "      <td>False</td>\n",
       "      <td>False</td>\n",
       "    </tr>\n",
       "    <tr>\n",
       "      <th>3284</th>\n",
       "      <td>False</td>\n",
       "      <td>False</td>\n",
       "      <td>False</td>\n",
       "      <td>False</td>\n",
       "      <td>False</td>\n",
       "    </tr>\n",
       "    <tr>\n",
       "      <th>3285</th>\n",
       "      <td>False</td>\n",
       "      <td>False</td>\n",
       "      <td>False</td>\n",
       "      <td>False</td>\n",
       "      <td>False</td>\n",
       "    </tr>\n",
       "    <tr>\n",
       "      <th>3286</th>\n",
       "      <td>False</td>\n",
       "      <td>False</td>\n",
       "      <td>False</td>\n",
       "      <td>False</td>\n",
       "      <td>False</td>\n",
       "    </tr>\n",
       "  </tbody>\n",
       "</table>\n",
       "<p>3287 rows × 5 columns</p>\n",
       "</div>"
      ],
      "text/plain": [
       "      Fecha  nombre_x1  data_x1  nombre_x2  data_x2\n",
       "0     False      False    False      False    False\n",
       "1     False      False    False      False    False\n",
       "2     False      False    False      False    False\n",
       "3     False      False    False      False    False\n",
       "4     False      False    False      False    False\n",
       "...     ...        ...      ...        ...      ...\n",
       "3282  False      False    False      False    False\n",
       "3283  False      False    False      False    False\n",
       "3284  False      False    False      False    False\n",
       "3285  False      False    False      False    False\n",
       "3286  False      False    False      False    False\n",
       "\n",
       "[3287 rows x 5 columns]"
      ]
     },
     "execution_count": 18,
     "metadata": {},
     "output_type": "execute_result"
    }
   ],
   "source": [
    "df2[(df2.data_x1.isnull()) | (df2.data_x1<= 0)]\n",
    "df2[(df2.data_x2.isnull()) | (df2.data_x2<= 0)]\n",
    "df2.isnull()"
   ]
  },
  {
   "cell_type": "markdown",
   "id": "a35ed5a8",
   "metadata": {},
   "source": [
    "### Parte 2"
   ]
  },
  {
   "cell_type": "markdown",
   "id": "ae988589",
   "metadata": {},
   "source": [
    "### 1.- Transformar mediante boxcox las variables y1 y y2. Comparar antes y después de la transformación a través del histograma (Buscamos eliminar el comportamiento bimodal)."
   ]
  },
  {
   "cell_type": "code",
   "execution_count": 19,
   "id": "2710154d",
   "metadata": {},
   "outputs": [
    {
     "data": {
      "text/html": [
       "<div>\n",
       "<style scoped>\n",
       "    .dataframe tbody tr th:only-of-type {\n",
       "        vertical-align: middle;\n",
       "    }\n",
       "\n",
       "    .dataframe tbody tr th {\n",
       "        vertical-align: top;\n",
       "    }\n",
       "\n",
       "    .dataframe thead th {\n",
       "        text-align: right;\n",
       "    }\n",
       "</style>\n",
       "<table border=\"1\" class=\"dataframe\">\n",
       "  <thead>\n",
       "    <tr style=\"text-align: right;\">\n",
       "      <th></th>\n",
       "      <th>Fecha</th>\n",
       "      <th>y1</th>\n",
       "      <th>y2</th>\n",
       "    </tr>\n",
       "  </thead>\n",
       "  <tbody>\n",
       "    <tr>\n",
       "      <th>0</th>\n",
       "      <td>01-01-06</td>\n",
       "      <td>532.88</td>\n",
       "      <td>391.88</td>\n",
       "    </tr>\n",
       "    <tr>\n",
       "      <th>1</th>\n",
       "      <td>02-01-06</td>\n",
       "      <td>532.87</td>\n",
       "      <td>392.02</td>\n",
       "    </tr>\n",
       "    <tr>\n",
       "      <th>2</th>\n",
       "      <td>03-01-06</td>\n",
       "      <td>532.80</td>\n",
       "      <td>391.00</td>\n",
       "    </tr>\n",
       "    <tr>\n",
       "      <th>3</th>\n",
       "      <td>04-01-06</td>\n",
       "      <td>532.72</td>\n",
       "      <td>391.47</td>\n",
       "    </tr>\n",
       "    <tr>\n",
       "      <th>4</th>\n",
       "      <td>05-01-06</td>\n",
       "      <td>532.70</td>\n",
       "      <td>391.66</td>\n",
       "    </tr>\n",
       "    <tr>\n",
       "      <th>...</th>\n",
       "      <td>...</td>\n",
       "      <td>...</td>\n",
       "      <td>...</td>\n",
       "    </tr>\n",
       "    <tr>\n",
       "      <th>3282</th>\n",
       "      <td>27-12-14</td>\n",
       "      <td>531.64</td>\n",
       "      <td>391.91</td>\n",
       "    </tr>\n",
       "    <tr>\n",
       "      <th>3283</th>\n",
       "      <td>28-12-14</td>\n",
       "      <td>531.63</td>\n",
       "      <td>391.99</td>\n",
       "    </tr>\n",
       "    <tr>\n",
       "      <th>3284</th>\n",
       "      <td>29-12-14</td>\n",
       "      <td>531.63</td>\n",
       "      <td>392.91</td>\n",
       "    </tr>\n",
       "    <tr>\n",
       "      <th>3285</th>\n",
       "      <td>30-12-14</td>\n",
       "      <td>531.64</td>\n",
       "      <td>391.05</td>\n",
       "    </tr>\n",
       "    <tr>\n",
       "      <th>3286</th>\n",
       "      <td>31-12-14</td>\n",
       "      <td>531.67</td>\n",
       "      <td>391.52</td>\n",
       "    </tr>\n",
       "  </tbody>\n",
       "</table>\n",
       "<p>3287 rows × 3 columns</p>\n",
       "</div>"
      ],
      "text/plain": [
       "         Fecha      y1      y2\n",
       "0     01-01-06  532.88  391.88\n",
       "1     02-01-06  532.87  392.02\n",
       "2     03-01-06  532.80  391.00\n",
       "3     04-01-06  532.72  391.47\n",
       "4     05-01-06  532.70  391.66\n",
       "...        ...     ...     ...\n",
       "3282  27-12-14  531.64  391.91\n",
       "3283  28-12-14  531.63  391.99\n",
       "3284  29-12-14  531.63  392.91\n",
       "3285  30-12-14  531.64  391.05\n",
       "3286  31-12-14  531.67  391.52\n",
       "\n",
       "[3287 rows x 3 columns]"
      ]
     },
     "execution_count": 19,
     "metadata": {},
     "output_type": "execute_result"
    }
   ],
   "source": [
    "sal = pd.read_csv('salidas.csv')\n",
    "sal"
   ]
  },
  {
   "cell_type": "code",
   "execution_count": 20,
   "id": "8df2f9bd",
   "metadata": {},
   "outputs": [
    {
     "data": {
      "image/png": "[encoded data removed]",
      "text/plain": [
       "<Figure size 432x288 with 2 Axes>"
      ]
     },
     "metadata": {
      "needs_background": "light"
     },
     "output_type": "display_data"
    }
   ],
   "source": [
    "sal.hist() # bimodal\n",
    "sal1=sal.copy()\n",
    "sal2=sal.copy()"
   ]
  },
  {
   "cell_type": "code",
   "execution_count": 21,
   "id": "52df2ced",
   "metadata": {},
   "outputs": [],
   "source": [
    "from scipy.stats import boxcox\n",
    "import matplotlib.pyplot as plt"
   ]
  },
  {
   "cell_type": "code",
   "execution_count": 22,
   "id": "2df1d40e",
   "metadata": {},
   "outputs": [
    {
     "data": {
      "text/plain": [
       "0   -0.067591\n",
       "dtype: float64"
      ]
     },
     "execution_count": 22,
     "metadata": {},
     "output_type": "execute_result"
    },
    {
     "data": {
      "image/png": "[encoded data removed]",
      "text/plain": [
       "<Figure size 432x288 with 1 Axes>"
      ]
     },
     "metadata": {
      "needs_background": "light"
     },
     "output_type": "display_data"
    }
   ],
   "source": [
    "Y1=sal2['y1']-min(sal2['y1'])+1\n",
    "y_1,l=boxcox(Y1)\n",
    "\n",
    "plt.hist(y_1,bins=3287)\n",
    "plt.grid()\n",
    "plt.title('$\\lambda=$'+str(l))\n",
    "pd.DataFrame(y_1).skew()\n"
   ]
  },
  {
   "cell_type": "code",
   "execution_count": 23,
   "id": "a264de72",
   "metadata": {},
   "outputs": [
    {
     "data": {
      "text/plain": [
       "0   -0.284757\n",
       "dtype: float64"
      ]
     },
     "execution_count": 23,
     "metadata": {},
     "output_type": "execute_result"
    },
    {
     "data": {
      "image/png": "[encoded data removed]",
      "text/plain": [
       "<Figure size 432x288 with 1 Axes>"
      ]
     },
     "metadata": {
      "needs_background": "light"
     },
     "output_type": "display_data"
    }
   ],
   "source": [
    "Y2=sal2['y2']-min(sal2['y2'])+1\n",
    "y_2,l=boxcox(Y2)\n",
    "\n",
    "plt.hist(y_2,bins=3287)\n",
    "plt.grid()\n",
    "plt.title('$\\lambda=$'+str(l))\n",
    "pd.DataFrame(y_2).skew()\n",
    "\n"
   ]
  },
  {
   "cell_type": "code",
   "execution_count": 24,
   "id": "3396d3fe",
   "metadata": {},
   "outputs": [
    {
     "data": {
      "text/html": [
       "<div>\n",
       "<style scoped>\n",
       "    .dataframe tbody tr th:only-of-type {\n",
       "        vertical-align: middle;\n",
       "    }\n",
       "\n",
       "    .dataframe tbody tr th {\n",
       "        vertical-align: top;\n",
       "    }\n",
       "\n",
       "    .dataframe thead th {\n",
       "        text-align: right;\n",
       "    }\n",
       "</style>\n",
       "<table border=\"1\" class=\"dataframe\">\n",
       "  <thead>\n",
       "    <tr style=\"text-align: right;\">\n",
       "      <th></th>\n",
       "      <th>Fecha</th>\n",
       "      <th>y1</th>\n",
       "      <th>y2</th>\n",
       "      <th>y_1</th>\n",
       "      <th>y_2</th>\n",
       "    </tr>\n",
       "  </thead>\n",
       "  <tbody>\n",
       "    <tr>\n",
       "      <th>0</th>\n",
       "      <td>01-01-06</td>\n",
       "      <td>532.88</td>\n",
       "      <td>391.88</td>\n",
       "      <td>8.893068</td>\n",
       "      <td>48.100403</td>\n",
       "    </tr>\n",
       "    <tr>\n",
       "      <th>1</th>\n",
       "      <td>02-01-06</td>\n",
       "      <td>532.87</td>\n",
       "      <td>392.02</td>\n",
       "      <td>8.888366</td>\n",
       "      <td>50.183239</td>\n",
       "    </tr>\n",
       "    <tr>\n",
       "      <th>2</th>\n",
       "      <td>03-01-06</td>\n",
       "      <td>532.80</td>\n",
       "      <td>391.00</td>\n",
       "      <td>8.855432</td>\n",
       "      <td>36.133307</td>\n",
       "    </tr>\n",
       "    <tr>\n",
       "      <th>3</th>\n",
       "      <td>04-01-06</td>\n",
       "      <td>532.72</td>\n",
       "      <td>391.47</td>\n",
       "      <td>8.817744</td>\n",
       "      <td>42.285222</td>\n",
       "    </tr>\n",
       "    <tr>\n",
       "      <th>4</th>\n",
       "      <td>05-01-06</td>\n",
       "      <td>532.70</td>\n",
       "      <td>391.66</td>\n",
       "      <td>8.808314</td>\n",
       "      <td>44.927584</td>\n",
       "    </tr>\n",
       "    <tr>\n",
       "      <th>...</th>\n",
       "      <td>...</td>\n",
       "      <td>...</td>\n",
       "      <td>...</td>\n",
       "      <td>...</td>\n",
       "      <td>...</td>\n",
       "    </tr>\n",
       "    <tr>\n",
       "      <th>3282</th>\n",
       "      <td>27-12-14</td>\n",
       "      <td>531.64</td>\n",
       "      <td>391.91</td>\n",
       "      <td>8.303683</td>\n",
       "      <td>48.542535</td>\n",
       "    </tr>\n",
       "    <tr>\n",
       "      <th>3283</th>\n",
       "      <td>28-12-14</td>\n",
       "      <td>531.63</td>\n",
       "      <td>391.99</td>\n",
       "      <td>8.298876</td>\n",
       "      <td>49.732722</td>\n",
       "    </tr>\n",
       "    <tr>\n",
       "      <th>3284</th>\n",
       "      <td>29-12-14</td>\n",
       "      <td>531.63</td>\n",
       "      <td>392.91</td>\n",
       "      <td>8.298876</td>\n",
       "      <td>64.603809</td>\n",
       "    </tr>\n",
       "    <tr>\n",
       "      <th>3285</th>\n",
       "      <td>30-12-14</td>\n",
       "      <td>531.64</td>\n",
       "      <td>391.05</td>\n",
       "      <td>8.303683</td>\n",
       "      <td>36.761978</td>\n",
       "    </tr>\n",
       "    <tr>\n",
       "      <th>3286</th>\n",
       "      <td>31-12-14</td>\n",
       "      <td>531.67</td>\n",
       "      <td>391.52</td>\n",
       "      <td>8.318100</td>\n",
       "      <td>42.971837</td>\n",
       "    </tr>\n",
       "  </tbody>\n",
       "</table>\n",
       "<p>3287 rows × 5 columns</p>\n",
       "</div>"
      ],
      "text/plain": [
       "         Fecha      y1      y2       y_1        y_2\n",
       "0     01-01-06  532.88  391.88  8.893068  48.100403\n",
       "1     02-01-06  532.87  392.02  8.888366  50.183239\n",
       "2     03-01-06  532.80  391.00  8.855432  36.133307\n",
       "3     04-01-06  532.72  391.47  8.817744  42.285222\n",
       "4     05-01-06  532.70  391.66  8.808314  44.927584\n",
       "...        ...     ...     ...       ...        ...\n",
       "3282  27-12-14  531.64  391.91  8.303683  48.542535\n",
       "3283  28-12-14  531.63  391.99  8.298876  49.732722\n",
       "3284  29-12-14  531.63  392.91  8.298876  64.603809\n",
       "3285  30-12-14  531.64  391.05  8.303683  36.761978\n",
       "3286  31-12-14  531.67  391.52  8.318100  42.971837\n",
       "\n",
       "[3287 rows x 5 columns]"
      ]
     },
     "execution_count": 24,
     "metadata": {},
     "output_type": "execute_result"
    }
   ],
   "source": [
    "sal2['y_1'],sal2['y_2']= y_1,y_2\n",
    "sal2"
   ]
  },
  {
   "cell_type": "markdown",
   "id": "cfe11a63",
   "metadata": {},
   "source": [
    "### 2.- Discretizar por año estas variables sin transformar."
   ]
  },
  {
   "cell_type": "code",
   "execution_count": 25,
   "id": "88c2354f",
   "metadata": {},
   "outputs": [
    {
     "data": {
      "text/plain": [
       "0       2006\n",
       "1       2006\n",
       "2       2006\n",
       "3       2006\n",
       "4       2006\n",
       "        ... \n",
       "3282    2014\n",
       "3283    2014\n",
       "3284    2014\n",
       "3285    2014\n",
       "3286    2014\n",
       "Name: Año, Length: 3287, dtype: int64"
      ]
     },
     "execution_count": 25,
     "metadata": {},
     "output_type": "execute_result"
    }
   ],
   "source": [
    "import datetime \n",
    "sal1['Año']= pd.DatetimeIndex(sal1['Fecha']).year\n",
    "sal1['Año']"
   ]
  },
  {
   "cell_type": "code",
   "execution_count": 26,
   "id": "443c821f",
   "metadata": {},
   "outputs": [
    {
     "data": {
      "text/html": [
       "<div>\n",
       "<style scoped>\n",
       "    .dataframe tbody tr th:only-of-type {\n",
       "        vertical-align: middle;\n",
       "    }\n",
       "\n",
       "    .dataframe tbody tr th {\n",
       "        vertical-align: top;\n",
       "    }\n",
       "\n",
       "    .dataframe thead th {\n",
       "        text-align: right;\n",
       "    }\n",
       "</style>\n",
       "<table border=\"1\" class=\"dataframe\">\n",
       "  <thead>\n",
       "    <tr style=\"text-align: right;\">\n",
       "      <th></th>\n",
       "      <th>Fecha</th>\n",
       "      <th>y1</th>\n",
       "      <th>y2</th>\n",
       "      <th>Año</th>\n",
       "    </tr>\n",
       "  </thead>\n",
       "  <tbody>\n",
       "    <tr>\n",
       "      <th>0</th>\n",
       "      <td>01-01-06</td>\n",
       "      <td>532.88</td>\n",
       "      <td>391.88</td>\n",
       "      <td>2006</td>\n",
       "    </tr>\n",
       "    <tr>\n",
       "      <th>1</th>\n",
       "      <td>02-01-06</td>\n",
       "      <td>532.87</td>\n",
       "      <td>392.02</td>\n",
       "      <td>2006</td>\n",
       "    </tr>\n",
       "    <tr>\n",
       "      <th>2</th>\n",
       "      <td>03-01-06</td>\n",
       "      <td>532.80</td>\n",
       "      <td>391.00</td>\n",
       "      <td>2006</td>\n",
       "    </tr>\n",
       "    <tr>\n",
       "      <th>3</th>\n",
       "      <td>04-01-06</td>\n",
       "      <td>532.72</td>\n",
       "      <td>391.47</td>\n",
       "      <td>2006</td>\n",
       "    </tr>\n",
       "    <tr>\n",
       "      <th>4</th>\n",
       "      <td>05-01-06</td>\n",
       "      <td>532.70</td>\n",
       "      <td>391.66</td>\n",
       "      <td>2006</td>\n",
       "    </tr>\n",
       "    <tr>\n",
       "      <th>...</th>\n",
       "      <td>...</td>\n",
       "      <td>...</td>\n",
       "      <td>...</td>\n",
       "      <td>...</td>\n",
       "    </tr>\n",
       "    <tr>\n",
       "      <th>3282</th>\n",
       "      <td>27-12-14</td>\n",
       "      <td>531.64</td>\n",
       "      <td>391.91</td>\n",
       "      <td>2014</td>\n",
       "    </tr>\n",
       "    <tr>\n",
       "      <th>3283</th>\n",
       "      <td>28-12-14</td>\n",
       "      <td>531.63</td>\n",
       "      <td>391.99</td>\n",
       "      <td>2014</td>\n",
       "    </tr>\n",
       "    <tr>\n",
       "      <th>3284</th>\n",
       "      <td>29-12-14</td>\n",
       "      <td>531.63</td>\n",
       "      <td>392.91</td>\n",
       "      <td>2014</td>\n",
       "    </tr>\n",
       "    <tr>\n",
       "      <th>3285</th>\n",
       "      <td>30-12-14</td>\n",
       "      <td>531.64</td>\n",
       "      <td>391.05</td>\n",
       "      <td>2014</td>\n",
       "    </tr>\n",
       "    <tr>\n",
       "      <th>3286</th>\n",
       "      <td>31-12-14</td>\n",
       "      <td>531.67</td>\n",
       "      <td>391.52</td>\n",
       "      <td>2014</td>\n",
       "    </tr>\n",
       "  </tbody>\n",
       "</table>\n",
       "<p>3287 rows × 4 columns</p>\n",
       "</div>"
      ],
      "text/plain": [
       "         Fecha      y1      y2   Año\n",
       "0     01-01-06  532.88  391.88  2006\n",
       "1     02-01-06  532.87  392.02  2006\n",
       "2     03-01-06  532.80  391.00  2006\n",
       "3     04-01-06  532.72  391.47  2006\n",
       "4     05-01-06  532.70  391.66  2006\n",
       "...        ...     ...     ...   ...\n",
       "3282  27-12-14  531.64  391.91  2014\n",
       "3283  28-12-14  531.63  391.99  2014\n",
       "3284  29-12-14  531.63  392.91  2014\n",
       "3285  30-12-14  531.64  391.05  2014\n",
       "3286  31-12-14  531.67  391.52  2014\n",
       "\n",
       "[3287 rows x 4 columns]"
      ]
     },
     "execution_count": 26,
     "metadata": {},
     "output_type": "execute_result"
    }
   ],
   "source": [
    "sal3=sal1.copy()\n",
    "sal3"
   ]
  },
  {
   "cell_type": "markdown",
   "id": "6720a45e",
   "metadata": {},
   "source": [
    "### 3.- Transformar cada variable discretizada usando boxcox y comparar el histograma de ésta con la variable discretizada sin transformar."
   ]
  },
  {
   "cell_type": "code",
   "execution_count": 27,
   "id": "4e3eb832",
   "metadata": {
    "scrolled": false
   },
   "outputs": [
    {
     "data": {
      "text/html": [
       "<div>\n",
       "<style scoped>\n",
       "    .dataframe tbody tr th:only-of-type {\n",
       "        vertical-align: middle;\n",
       "    }\n",
       "\n",
       "    .dataframe tbody tr th {\n",
       "        vertical-align: top;\n",
       "    }\n",
       "\n",
       "    .dataframe thead th {\n",
       "        text-align: right;\n",
       "    }\n",
       "</style>\n",
       "<table border=\"1\" class=\"dataframe\">\n",
       "  <thead>\n",
       "    <tr style=\"text-align: right;\">\n",
       "      <th></th>\n",
       "      <th>Fecha</th>\n",
       "      <th>y1</th>\n",
       "      <th>y2</th>\n",
       "      <th>Año</th>\n",
       "    </tr>\n",
       "  </thead>\n",
       "  <tbody>\n",
       "    <tr>\n",
       "      <th>0</th>\n",
       "      <td>01-01-06</td>\n",
       "      <td>532.88</td>\n",
       "      <td>391.88</td>\n",
       "      <td>2006</td>\n",
       "    </tr>\n",
       "    <tr>\n",
       "      <th>1</th>\n",
       "      <td>02-01-06</td>\n",
       "      <td>532.87</td>\n",
       "      <td>392.02</td>\n",
       "      <td>2006</td>\n",
       "    </tr>\n",
       "    <tr>\n",
       "      <th>2</th>\n",
       "      <td>03-01-06</td>\n",
       "      <td>532.80</td>\n",
       "      <td>391.00</td>\n",
       "      <td>2006</td>\n",
       "    </tr>\n",
       "    <tr>\n",
       "      <th>3</th>\n",
       "      <td>04-01-06</td>\n",
       "      <td>532.72</td>\n",
       "      <td>391.47</td>\n",
       "      <td>2006</td>\n",
       "    </tr>\n",
       "    <tr>\n",
       "      <th>4</th>\n",
       "      <td>05-01-06</td>\n",
       "      <td>532.70</td>\n",
       "      <td>391.66</td>\n",
       "      <td>2006</td>\n",
       "    </tr>\n",
       "    <tr>\n",
       "      <th>...</th>\n",
       "      <td>...</td>\n",
       "      <td>...</td>\n",
       "      <td>...</td>\n",
       "      <td>...</td>\n",
       "    </tr>\n",
       "    <tr>\n",
       "      <th>3282</th>\n",
       "      <td>27-12-14</td>\n",
       "      <td>531.64</td>\n",
       "      <td>391.91</td>\n",
       "      <td>2014</td>\n",
       "    </tr>\n",
       "    <tr>\n",
       "      <th>3283</th>\n",
       "      <td>28-12-14</td>\n",
       "      <td>531.63</td>\n",
       "      <td>391.99</td>\n",
       "      <td>2014</td>\n",
       "    </tr>\n",
       "    <tr>\n",
       "      <th>3284</th>\n",
       "      <td>29-12-14</td>\n",
       "      <td>531.63</td>\n",
       "      <td>392.91</td>\n",
       "      <td>2014</td>\n",
       "    </tr>\n",
       "    <tr>\n",
       "      <th>3285</th>\n",
       "      <td>30-12-14</td>\n",
       "      <td>531.64</td>\n",
       "      <td>391.05</td>\n",
       "      <td>2014</td>\n",
       "    </tr>\n",
       "    <tr>\n",
       "      <th>3286</th>\n",
       "      <td>31-12-14</td>\n",
       "      <td>531.67</td>\n",
       "      <td>391.52</td>\n",
       "      <td>2014</td>\n",
       "    </tr>\n",
       "  </tbody>\n",
       "</table>\n",
       "<p>3287 rows × 4 columns</p>\n",
       "</div>"
      ],
      "text/plain": [
       "         Fecha      y1      y2   Año\n",
       "0     01-01-06  532.88  391.88  2006\n",
       "1     02-01-06  532.87  392.02  2006\n",
       "2     03-01-06  532.80  391.00  2006\n",
       "3     04-01-06  532.72  391.47  2006\n",
       "4     05-01-06  532.70  391.66  2006\n",
       "...        ...     ...     ...   ...\n",
       "3282  27-12-14  531.64  391.91  2014\n",
       "3283  28-12-14  531.63  391.99  2014\n",
       "3284  29-12-14  531.63  392.91  2014\n",
       "3285  30-12-14  531.64  391.05  2014\n",
       "3286  31-12-14  531.67  391.52  2014\n",
       "\n",
       "[3287 rows x 4 columns]"
      ]
     },
     "execution_count": 27,
     "metadata": {},
     "output_type": "execute_result"
    }
   ],
   "source": [
    "from scipy import stats\n",
    "\n",
    "sal4=sal3.copy()\n",
    "sal4"
   ]
  },
  {
   "cell_type": "code",
   "execution_count": 28,
   "id": "bed167a4",
   "metadata": {
    "scrolled": false
   },
   "outputs": [
    {
     "data": {
      "image/png": "[encoded data removed]",
      "text/plain": [
       "<Figure size 432x288 with 1 Axes>"
      ]
     },
     "metadata": {
      "needs_background": "light"
     },
     "output_type": "display_data"
    },
    {
     "data": {
      "image/png": "[encoded data removed]",
      "text/plain": [
       "<Figure size 432x288 with 1 Axes>"
      ]
     },
     "metadata": {
      "needs_background": "light"
     },
     "output_type": "display_data"
    }
   ],
   "source": [
    "y1_2006 = sal4.groupby('Año')['y1'].get_group(2006)\n",
    "y1_06=stats.boxcox(y1_2006,lmbda=0.5)\n",
    "plt.hist(y1_06, label='y1_06')\n",
    "plt.title('Skew='+str(stats.skew(y1_06)))\n",
    "plt.show()\n",
    "\n",
    "y2_2006 = sal4.groupby('Año')['y2'].get_group(2006)\n",
    "y2_06=stats.boxcox(y2_2006,lmbda=0.5)\n",
    "plt.hist(y2_06, label='y2_06')\n",
    "plt.title('Skew='+str(stats.skew(y2_06)))\n",
    "plt.show()"
   ]
  },
  {
   "cell_type": "code",
   "execution_count": 29,
   "id": "0bbf30f5",
   "metadata": {
    "scrolled": false
   },
   "outputs": [
    {
     "data": {
      "image/png": "[encoded data removed]",
      "text/plain": [
       "<Figure size 432x288 with 1 Axes>"
      ]
     },
     "metadata": {
      "needs_background": "light"
     },
     "output_type": "display_data"
    },
    {
     "data": {
      "image/png": "[encoded data removed]",
      "text/plain": [
       "<Figure size 432x288 with 1 Axes>"
      ]
     },
     "metadata": {
      "needs_background": "light"
     },
     "output_type": "display_data"
    }
   ],
   "source": [
    "y1_2007 = sal4.groupby('Año')['y1'].get_group(2007)\n",
    "y1_07=stats.boxcox(y1_2007,lmbda=0.5)\n",
    "plt.hist(y1_07, label='y1_07')\n",
    "plt.title('Skew='+str(stats.skew(y1_07)))\n",
    "plt.show()\n",
    "\n",
    "y2_2007 = sal4.groupby('Año')['y2'].get_group(2007)\n",
    "y2_07=stats.boxcox(y2_2007,lmbda=0.5)\n",
    "plt.hist(y2_07, label='y2_07')\n",
    "plt.title('Skew='+str(stats.skew(y2_07)))\n",
    "plt.show()"
   ]
  },
  {
   "cell_type": "code",
   "execution_count": 30,
   "id": "c0af9832",
   "metadata": {},
   "outputs": [
    {
     "data": {
      "image/png": "[encoded data removed]",
      "text/plain": [
       "<Figure size 432x288 with 1 Axes>"
      ]
     },
     "metadata": {
      "needs_background": "light"
     },
     "output_type": "display_data"
    },
    {
     "data": {
      "image/png": "[encoded data removed]",
      "text/plain": [
       "<Figure size 432x288 with 1 Axes>"
      ]
     },
     "metadata": {
      "needs_background": "light"
     },
     "output_type": "display_data"
    }
   ],
   "source": [
    "y1_2008 = sal4.groupby('Año')['y1'].get_group(2008)\n",
    "y1_08=stats.boxcox(y1_2008,lmbda=0.5)\n",
    "plt.hist(y1_08, label='y1_08')\n",
    "plt.title('Skew='+str(stats.skew(y1_08)))\n",
    "plt.show()\n",
    "\n",
    "y2_2008 = sal4.groupby('Año')['y2'].get_group(2008)\n",
    "y2_08=stats.boxcox(y2_2008,lmbda=0.5)\n",
    "plt.hist(y2_08, label='y2_08')\n",
    "plt.title('Skew='+str(stats.skew(y2_08)))\n",
    "plt.show()"
   ]
  },
  {
   "cell_type": "code",
   "execution_count": 31,
   "id": "2ad18841",
   "metadata": {},
   "outputs": [
    {
     "data": {
      "image/png": "[encoded data removed]",
      "text/plain": [
       "<Figure size 432x288 with 1 Axes>"
      ]
     },
     "metadata": {
      "needs_background": "light"
     },
     "output_type": "display_data"
    },
    {
     "data": {
      "image/png": "[encoded data removed]",
      "text/plain": [
       "<Figure size 432x288 with 1 Axes>"
      ]
     },
     "metadata": {
      "needs_background": "light"
     },
     "output_type": "display_data"
    }
   ],
   "source": [
    "y1_2009 = sal4.groupby('Año')['y1'].get_group(2009)\n",
    "y1_09=stats.boxcox(y1_2009,lmbda=0.5)\n",
    "plt.hist(y1_08, label='y1_09')\n",
    "plt.title('Skew='+str(stats.skew(y1_09)))\n",
    "plt.show()\n",
    "\n",
    "y2_2009 = sal4.groupby('Año')['y2'].get_group(2009)\n",
    "y2_09=stats.boxcox(y2_2009,lmbda=0.5)\n",
    "plt.hist(y2_09, label='y2_09')\n",
    "plt.title('Skew='+str(stats.skew(y2_09)))\n",
    "plt.show()"
   ]
  },
  {
   "cell_type": "code",
   "execution_count": 32,
   "id": "af1c4a72",
   "metadata": {},
   "outputs": [
    {
     "data": {
      "image/png": "[encoded data removed]",
      "text/plain": [
       "<Figure size 432x288 with 1 Axes>"
      ]
     },
     "metadata": {
      "needs_background": "light"
     },
     "output_type": "display_data"
    },
    {
     "data": {
      "image/png": "[encoded data removed]",
      "text/plain": [
       "<Figure size 432x288 with 1 Axes>"
      ]
     },
     "metadata": {
      "needs_background": "light"
     },
     "output_type": "display_data"
    }
   ],
   "source": [
    "y1_2010 = sal4.groupby('Año')['y1'].get_group(2010)\n",
    "y1_10=stats.boxcox(y1_2010,lmbda=0.5)\n",
    "plt.hist(y1_10, label='y1_10')\n",
    "plt.title('Skew='+str(stats.skew(y1_10)))\n",
    "plt.show()\n",
    "\n",
    "y2_2010 = sal4.groupby('Año')['y2'].get_group(2010)\n",
    "y2_10=stats.boxcox(y2_2010,lmbda=0.5)\n",
    "plt.hist(y2_10, label='y2_10')\n",
    "plt.title('Skew='+str(stats.skew(y2_10)))\n",
    "plt.show()"
   ]
  },
  {
   "cell_type": "code",
   "execution_count": 33,
   "id": "42f6cf85",
   "metadata": {},
   "outputs": [
    {
     "data": {
      "image/png": "[encoded data removed]",
      "text/plain": [
       "<Figure size 432x288 with 1 Axes>"
      ]
     },
     "metadata": {
      "needs_background": "light"
     },
     "output_type": "display_data"
    },
    {
     "data": {
      "image/png": "[encoded data removed]",
      "text/plain": [
       "<Figure size 432x288 with 1 Axes>"
      ]
     },
     "metadata": {
      "needs_background": "light"
     },
     "output_type": "display_data"
    }
   ],
   "source": [
    "y1_2011 = sal4.groupby('Año')['y1'].get_group(2011)\n",
    "y1_11=stats.boxcox(y1_2011,lmbda=0.5)\n",
    "plt.hist(y1_11, label='y1_11')\n",
    "plt.title('Skew='+str(stats.skew(y1_11)))\n",
    "plt.show()\n",
    "\n",
    "y2_2011 = sal4.groupby('Año')['y2'].get_group(2011)\n",
    "y2_11=stats.boxcox(y2_2011,lmbda=0.5)\n",
    "plt.hist(y2_11, label='y2_11')\n",
    "plt.title('Skew='+str(stats.skew(y2_11)))\n",
    "plt.show()"
   ]
  },
  {
   "cell_type": "code",
   "execution_count": 34,
   "id": "f16fcc3c",
   "metadata": {},
   "outputs": [
    {
     "data": {
      "image/png": "[encoded data removed]",
      "text/plain": [
       "<Figure size 432x288 with 1 Axes>"
      ]
     },
     "metadata": {
      "needs_background": "light"
     },
     "output_type": "display_data"
    },
    {
     "data": {
      "image/png": "[encoded data removed]",
      "text/plain": [
       "<Figure size 432x288 with 1 Axes>"
      ]
     },
     "metadata": {
      "needs_background": "light"
     },
     "output_type": "display_data"
    }
   ],
   "source": [
    "y1_2012 = sal4.groupby('Año')['y1'].get_group(2012)\n",
    "y1_12=stats.boxcox(y1_2012,lmbda=0.5)\n",
    "plt.hist(y1_12, label='y1_12')\n",
    "plt.title('Skew='+str(stats.skew(y1_12)))\n",
    "plt.show()\n",
    "\n",
    "y2_2012 = sal4.groupby('Año')['y2'].get_group(2012)\n",
    "y2_12=stats.boxcox(y2_2012,lmbda=0.5)\n",
    "plt.hist(y2_12, label='y2_12')\n",
    "plt.title('Skew='+str(stats.skew(y2_12)))\n",
    "plt.show()"
   ]
  },
  {
   "cell_type": "code",
   "execution_count": 35,
   "id": "4214335d",
   "metadata": {},
   "outputs": [
    {
     "data": {
      "image/png": "[encoded data removed]",
      "text/plain": [
       "<Figure size 432x288 with 1 Axes>"
      ]
     },
     "metadata": {
      "needs_background": "light"
     },
     "output_type": "display_data"
    },
    {
     "data": {
      "image/png": "[encoded data removed]",
      "text/plain": [
       "<Figure size 432x288 with 1 Axes>"
      ]
     },
     "metadata": {
      "needs_background": "light"
     },
     "output_type": "display_data"
    }
   ],
   "source": [
    "y1_2013 = sal4.groupby('Año')['y1'].get_group(2013)\n",
    "y1_13=stats.boxcox(y1_2013,lmbda=0.5)\n",
    "plt.hist(y1_13, label='y1_13')\n",
    "plt.title('Skew='+str(stats.skew(y1_13)))\n",
    "plt.show()\n",
    "\n",
    "y2_2013 = sal4.groupby('Año')['y2'].get_group(2013)\n",
    "y2_13=stats.boxcox(y2_2013,lmbda=0.5)\n",
    "plt.hist(y2_13, label='y2_13')\n",
    "plt.title('Skew='+str(stats.skew(y2_13)))\n",
    "plt.show()"
   ]
  },
  {
   "cell_type": "code",
   "execution_count": 36,
   "id": "c3c3aaae",
   "metadata": {},
   "outputs": [
    {
     "data": {
      "image/png": "[encoded data removed]",
      "text/plain": [
       "<Figure size 432x288 with 1 Axes>"
      ]
     },
     "metadata": {
      "needs_background": "light"
     },
     "output_type": "display_data"
    },
    {
     "data": {
      "image/png": "[encoded data removed]",
      "text/plain": [
       "<Figure size 432x288 with 1 Axes>"
      ]
     },
     "metadata": {
      "needs_background": "light"
     },
     "output_type": "display_data"
    }
   ],
   "source": [
    "y1_2014 = sal4.groupby('Año')['y1'].get_group(2014)\n",
    "y1_14=stats.boxcox(y1_2014,lmbda=0.5)\n",
    "plt.hist(y1_14, label='y1_14')\n",
    "plt.title('Skew='+str(stats.skew(y1_14)))\n",
    "plt.show()\n",
    "\n",
    "y2_2014 = sal4.groupby('Año')['y2'].get_group(2014)\n",
    "y2_14=stats.boxcox(y2_2014,lmbda=0.5)\n",
    "plt.hist(y2_14, label='y2_14')\n",
    "plt.title('Skew='+str(stats.skew(y2_14)))\n",
    "plt.show()"
   ]
  },
  {
   "cell_type": "markdown",
   "id": "5c9faa82",
   "metadata": {},
   "source": [
    "### 4.- Proponga una discretización con intervalo de ancho constante que, al transformar cada contenedor, se asemeje más a una distribución normal.\n"
   ]
  },
  {
   "cell_type": "code",
   "execution_count": 37,
   "id": "051bf574",
   "metadata": {},
   "outputs": [
    {
     "data": {
      "text/html": [
       "<div>\n",
       "<style scoped>\n",
       "    .dataframe tbody tr th:only-of-type {\n",
       "        vertical-align: middle;\n",
       "    }\n",
       "\n",
       "    .dataframe tbody tr th {\n",
       "        vertical-align: top;\n",
       "    }\n",
       "\n",
       "    .dataframe thead th {\n",
       "        text-align: right;\n",
       "    }\n",
       "</style>\n",
       "<table border=\"1\" class=\"dataframe\">\n",
       "  <thead>\n",
       "    <tr style=\"text-align: right;\">\n",
       "      <th></th>\n",
       "      <th>Fecha</th>\n",
       "      <th>y1</th>\n",
       "      <th>y2</th>\n",
       "      <th>disc_y1</th>\n",
       "      <th>disc_y2</th>\n",
       "    </tr>\n",
       "  </thead>\n",
       "  <tbody>\n",
       "    <tr>\n",
       "      <th>0</th>\n",
       "      <td>01-01-06</td>\n",
       "      <td>532.88</td>\n",
       "      <td>391.88</td>\n",
       "      <td>(532.175, 533.12]</td>\n",
       "      <td>(391.85, 392.24]</td>\n",
       "    </tr>\n",
       "    <tr>\n",
       "      <th>1</th>\n",
       "      <td>02-01-06</td>\n",
       "      <td>532.87</td>\n",
       "      <td>392.02</td>\n",
       "      <td>(532.175, 533.12]</td>\n",
       "      <td>(391.85, 392.24]</td>\n",
       "    </tr>\n",
       "    <tr>\n",
       "      <th>2</th>\n",
       "      <td>03-01-06</td>\n",
       "      <td>532.80</td>\n",
       "      <td>391.00</td>\n",
       "      <td>(532.175, 533.12]</td>\n",
       "      <td>(390.68, 391.07]</td>\n",
       "    </tr>\n",
       "    <tr>\n",
       "      <th>3</th>\n",
       "      <td>04-01-06</td>\n",
       "      <td>532.72</td>\n",
       "      <td>391.47</td>\n",
       "      <td>(532.175, 533.12]</td>\n",
       "      <td>(391.46, 391.85]</td>\n",
       "    </tr>\n",
       "    <tr>\n",
       "      <th>4</th>\n",
       "      <td>05-01-06</td>\n",
       "      <td>532.70</td>\n",
       "      <td>391.66</td>\n",
       "      <td>(532.175, 533.12]</td>\n",
       "      <td>(391.46, 391.85]</td>\n",
       "    </tr>\n",
       "    <tr>\n",
       "      <th>...</th>\n",
       "      <td>...</td>\n",
       "      <td>...</td>\n",
       "      <td>...</td>\n",
       "      <td>...</td>\n",
       "      <td>...</td>\n",
       "    </tr>\n",
       "    <tr>\n",
       "      <th>3282</th>\n",
       "      <td>27-12-14</td>\n",
       "      <td>531.64</td>\n",
       "      <td>391.91</td>\n",
       "      <td>(531.23, 532.175]</td>\n",
       "      <td>(391.85, 392.24]</td>\n",
       "    </tr>\n",
       "    <tr>\n",
       "      <th>3283</th>\n",
       "      <td>28-12-14</td>\n",
       "      <td>531.63</td>\n",
       "      <td>391.99</td>\n",
       "      <td>(531.23, 532.175]</td>\n",
       "      <td>(391.85, 392.24]</td>\n",
       "    </tr>\n",
       "    <tr>\n",
       "      <th>3284</th>\n",
       "      <td>29-12-14</td>\n",
       "      <td>531.63</td>\n",
       "      <td>392.91</td>\n",
       "      <td>(531.23, 532.175]</td>\n",
       "      <td>(392.63, 393.02]</td>\n",
       "    </tr>\n",
       "    <tr>\n",
       "      <th>3285</th>\n",
       "      <td>30-12-14</td>\n",
       "      <td>531.64</td>\n",
       "      <td>391.05</td>\n",
       "      <td>(531.23, 532.175]</td>\n",
       "      <td>(390.68, 391.07]</td>\n",
       "    </tr>\n",
       "    <tr>\n",
       "      <th>3286</th>\n",
       "      <td>31-12-14</td>\n",
       "      <td>531.67</td>\n",
       "      <td>391.52</td>\n",
       "      <td>(531.23, 532.175]</td>\n",
       "      <td>(391.46, 391.85]</td>\n",
       "    </tr>\n",
       "  </tbody>\n",
       "</table>\n",
       "<p>3287 rows × 5 columns</p>\n",
       "</div>"
      ],
      "text/plain": [
       "         Fecha      y1      y2            disc_y1           disc_y2\n",
       "0     01-01-06  532.88  391.88  (532.175, 533.12]  (391.85, 392.24]\n",
       "1     02-01-06  532.87  392.02  (532.175, 533.12]  (391.85, 392.24]\n",
       "2     03-01-06  532.80  391.00  (532.175, 533.12]  (390.68, 391.07]\n",
       "3     04-01-06  532.72  391.47  (532.175, 533.12]  (391.46, 391.85]\n",
       "4     05-01-06  532.70  391.66  (532.175, 533.12]  (391.46, 391.85]\n",
       "...        ...     ...     ...                ...               ...\n",
       "3282  27-12-14  531.64  391.91  (531.23, 532.175]  (391.85, 392.24]\n",
       "3283  28-12-14  531.63  391.99  (531.23, 532.175]  (391.85, 392.24]\n",
       "3284  29-12-14  531.63  392.91  (531.23, 532.175]  (392.63, 393.02]\n",
       "3285  30-12-14  531.64  391.05  (531.23, 532.175]  (390.68, 391.07]\n",
       "3286  31-12-14  531.67  391.52  (531.23, 532.175]  (391.46, 391.85]\n",
       "\n",
       "[3287 rows x 5 columns]"
      ]
     },
     "execution_count": 37,
     "metadata": {},
     "output_type": "execute_result"
    }
   ],
   "source": [
    "sal5=sal.copy()\n",
    "\n",
    "sal5['disc_y1']=pd.cut(sal5['y1'],20,include_lowest=True)\n",
    "sal5['disc_y2']=pd.cut(sal5['y2'],20,include_lowest=True)\n",
    "sal5"
   ]
  },
  {
   "cell_type": "code",
   "execution_count": 38,
   "id": "342187b2",
   "metadata": {},
   "outputs": [
    {
     "data": {
      "text/plain": [
       "(disc_y1\n",
       " (517.98, 518.945]     27\n",
       " (518.945, 519.89]     85\n",
       " (519.89, 520.835]     70\n",
       " (520.835, 521.78]     55\n",
       " (521.78, 522.725]    103\n",
       " (522.725, 523.67]    220\n",
       " (523.67, 524.615]    466\n",
       " (524.615, 525.56]    394\n",
       " (525.56, 526.505]    229\n",
       " (526.505, 527.45]    163\n",
       " (527.45, 528.395]    210\n",
       " (528.395, 529.34]    185\n",
       " (529.34, 530.285]    180\n",
       " (530.285, 531.23]    148\n",
       " (531.23, 532.175]    224\n",
       " (532.175, 533.12]    229\n",
       " (533.12, 534.065]    186\n",
       " (534.065, 535.01]     51\n",
       " (535.01, 535.955]     32\n",
       " (535.955, 536.9]      30\n",
       " Name: y1, dtype: int64,\n",
       " disc_y1\n",
       " (517.98, 518.945]     27\n",
       " (518.945, 519.89]     85\n",
       " (519.89, 520.835]     70\n",
       " (520.835, 521.78]     55\n",
       " (521.78, 522.725]    103\n",
       " (522.725, 523.67]    220\n",
       " (523.67, 524.615]    466\n",
       " (524.615, 525.56]    394\n",
       " (525.56, 526.505]    229\n",
       " (526.505, 527.45]    163\n",
       " (527.45, 528.395]    210\n",
       " (528.395, 529.34]    185\n",
       " (529.34, 530.285]    180\n",
       " (530.285, 531.23]    148\n",
       " (531.23, 532.175]    224\n",
       " (532.175, 533.12]    229\n",
       " (533.12, 534.065]    186\n",
       " (534.065, 535.01]     51\n",
       " (535.01, 535.955]     32\n",
       " (535.955, 536.9]      30\n",
       " Name: y1, dtype: int64)"
      ]
     },
     "execution_count": 38,
     "metadata": {},
     "output_type": "execute_result"
    }
   ],
   "source": [
    "sal5.groupby('disc_y1')['y1'].count(), sal5.groupby('disc_y1')['y1'].count()"
   ]
  },
  {
   "cell_type": "markdown",
   "id": "3d61b965",
   "metadata": {},
   "source": [
    "### 5.- Discretizar cada variable (sin transformar) usando k-means. Proponga el valor de k y justifíquelo.\n"
   ]
  },
  {
   "cell_type": "code",
   "execution_count": 39,
   "id": "cccc8a3f",
   "metadata": {},
   "outputs": [],
   "source": [
    "sal6=sal.copy()\n",
    "k=20\n",
    "from sklearn.preprocessing import KBinsDiscretizer \n",
    "dist=KBinsDiscretizer(n_bins=k,strategy='kmeans',encode='ordinal')"
   ]
  },
  {
   "cell_type": "code",
   "execution_count": 40,
   "id": "de0664db",
   "metadata": {},
   "outputs": [
    {
     "data": {
      "text/html": [
       "<div>\n",
       "<style scoped>\n",
       "    .dataframe tbody tr th:only-of-type {\n",
       "        vertical-align: middle;\n",
       "    }\n",
       "\n",
       "    .dataframe tbody tr th {\n",
       "        vertical-align: top;\n",
       "    }\n",
       "\n",
       "    .dataframe thead th {\n",
       "        text-align: right;\n",
       "    }\n",
       "</style>\n",
       "<table border=\"1\" class=\"dataframe\">\n",
       "  <thead>\n",
       "    <tr style=\"text-align: right;\">\n",
       "      <th></th>\n",
       "      <th>Fecha</th>\n",
       "      <th>y1</th>\n",
       "      <th>y2</th>\n",
       "      <th>y1_KBins</th>\n",
       "      <th>y2_KBins</th>\n",
       "    </tr>\n",
       "  </thead>\n",
       "  <tbody>\n",
       "    <tr>\n",
       "      <th>0</th>\n",
       "      <td>01-01-06</td>\n",
       "      <td>532.88</td>\n",
       "      <td>391.88</td>\n",
       "      <td>15.0</td>\n",
       "      <td>17.0</td>\n",
       "    </tr>\n",
       "    <tr>\n",
       "      <th>1</th>\n",
       "      <td>02-01-06</td>\n",
       "      <td>532.87</td>\n",
       "      <td>392.02</td>\n",
       "      <td>15.0</td>\n",
       "      <td>17.0</td>\n",
       "    </tr>\n",
       "    <tr>\n",
       "      <th>2</th>\n",
       "      <td>03-01-06</td>\n",
       "      <td>532.80</td>\n",
       "      <td>391.00</td>\n",
       "      <td>15.0</td>\n",
       "      <td>14.0</td>\n",
       "    </tr>\n",
       "    <tr>\n",
       "      <th>3</th>\n",
       "      <td>04-01-06</td>\n",
       "      <td>532.72</td>\n",
       "      <td>391.47</td>\n",
       "      <td>15.0</td>\n",
       "      <td>15.0</td>\n",
       "    </tr>\n",
       "    <tr>\n",
       "      <th>4</th>\n",
       "      <td>05-01-06</td>\n",
       "      <td>532.70</td>\n",
       "      <td>391.66</td>\n",
       "      <td>15.0</td>\n",
       "      <td>16.0</td>\n",
       "    </tr>\n",
       "    <tr>\n",
       "      <th>...</th>\n",
       "      <td>...</td>\n",
       "      <td>...</td>\n",
       "      <td>...</td>\n",
       "      <td>...</td>\n",
       "      <td>...</td>\n",
       "    </tr>\n",
       "    <tr>\n",
       "      <th>3282</th>\n",
       "      <td>27-12-14</td>\n",
       "      <td>531.64</td>\n",
       "      <td>391.91</td>\n",
       "      <td>14.0</td>\n",
       "      <td>17.0</td>\n",
       "    </tr>\n",
       "    <tr>\n",
       "      <th>3283</th>\n",
       "      <td>28-12-14</td>\n",
       "      <td>531.63</td>\n",
       "      <td>391.99</td>\n",
       "      <td>14.0</td>\n",
       "      <td>17.0</td>\n",
       "    </tr>\n",
       "    <tr>\n",
       "      <th>3284</th>\n",
       "      <td>29-12-14</td>\n",
       "      <td>531.63</td>\n",
       "      <td>392.91</td>\n",
       "      <td>14.0</td>\n",
       "      <td>19.0</td>\n",
       "    </tr>\n",
       "    <tr>\n",
       "      <th>3285</th>\n",
       "      <td>30-12-14</td>\n",
       "      <td>531.64</td>\n",
       "      <td>391.05</td>\n",
       "      <td>14.0</td>\n",
       "      <td>14.0</td>\n",
       "    </tr>\n",
       "    <tr>\n",
       "      <th>3286</th>\n",
       "      <td>31-12-14</td>\n",
       "      <td>531.67</td>\n",
       "      <td>391.52</td>\n",
       "      <td>14.0</td>\n",
       "      <td>16.0</td>\n",
       "    </tr>\n",
       "  </tbody>\n",
       "</table>\n",
       "<p>3287 rows × 5 columns</p>\n",
       "</div>"
      ],
      "text/plain": [
       "         Fecha      y1      y2  y1_KBins  y2_KBins\n",
       "0     01-01-06  532.88  391.88      15.0      17.0\n",
       "1     02-01-06  532.87  392.02      15.0      17.0\n",
       "2     03-01-06  532.80  391.00      15.0      14.0\n",
       "3     04-01-06  532.72  391.47      15.0      15.0\n",
       "4     05-01-06  532.70  391.66      15.0      16.0\n",
       "...        ...     ...     ...       ...       ...\n",
       "3282  27-12-14  531.64  391.91      14.0      17.0\n",
       "3283  28-12-14  531.63  391.99      14.0      17.0\n",
       "3284  29-12-14  531.63  392.91      14.0      19.0\n",
       "3285  30-12-14  531.64  391.05      14.0      14.0\n",
       "3286  31-12-14  531.67  391.52      14.0      16.0\n",
       "\n",
       "[3287 rows x 5 columns]"
      ]
     },
     "execution_count": 40,
     "metadata": {},
     "output_type": "execute_result"
    }
   ],
   "source": [
    "sal6['y1_KBins']=dist.fit_transform(sal6[['y1']])\n",
    "sal6['y2_KBins']=dist.fit_transform(sal6[['y2']])\n",
    "\n",
    "sal6"
   ]
  },
  {
   "cell_type": "markdown",
   "id": "35471a5c",
   "metadata": {},
   "source": [
    "la diferencia entre los numeros es chica, por lo que se elegio mantener la K en 20 grupos"
   ]
  },
  {
   "cell_type": "code",
   "execution_count": 41,
   "id": "a9bd301d",
   "metadata": {},
   "outputs": [
    {
     "data": {
      "text/plain": [
       "(y1_KBins\n",
       " 0.0      32\n",
       " 1.0      95\n",
       " 2.0      70\n",
       " 3.0      86\n",
       " 4.0     141\n",
       " 5.0     306\n",
       " 6.0     279\n",
       " 7.0     301\n",
       " 8.0     283\n",
       " 9.0     182\n",
       " 10.0    227\n",
       " 11.0    197\n",
       " 12.0    193\n",
       " 13.0    170\n",
       " 14.0    215\n",
       " 15.0    202\n",
       " 16.0    189\n",
       " 17.0     57\n",
       " 18.0     30\n",
       " 19.0     32\n",
       " Name: y1, dtype: int64,\n",
       " y2_KBins\n",
       " 0.0       4\n",
       " 1.0       5\n",
       " 2.0      10\n",
       " 3.0      17\n",
       " 4.0      55\n",
       " 5.0      68\n",
       " 6.0     130\n",
       " 7.0     157\n",
       " 8.0     146\n",
       " 9.0     131\n",
       " 10.0    140\n",
       " 11.0    171\n",
       " 12.0    211\n",
       " 13.0    258\n",
       " 14.0    307\n",
       " 15.0    367\n",
       " 16.0    369\n",
       " 17.0    392\n",
       " 18.0    269\n",
       " 19.0     80\n",
       " Name: y2, dtype: int64)"
      ]
     },
     "execution_count": 41,
     "metadata": {},
     "output_type": "execute_result"
    }
   ],
   "source": [
    "#se aprecia la discretizacion por medio de kmeans\n",
    "K1=sal6.groupby('y1_KBins')['y1'].count()\n",
    "K2=sal6.groupby('y2_KBins')['y2'].count()\n",
    "K1,K2"
   ]
  },
  {
   "cell_type": "markdown",
   "id": "63cb0aa6",
   "metadata": {},
   "source": [
    "### 6.- Transformar cada variable discretizada usando boxcox y comparar la variable discretizada sin transformar mediante el histograma. ¿Hubo mejoría con respecto a la discretización por año?\n"
   ]
  },
  {
   "cell_type": "code",
   "execution_count": 42,
   "id": "5aa555f2",
   "metadata": {},
   "outputs": [
    {
     "data": {
      "text/plain": [
       "135     525.24\n",
       "136     525.16\n",
       "137     525.08\n",
       "138     525.00\n",
       "139     524.92\n",
       "         ...  \n",
       "3176    524.59\n",
       "3177    524.78\n",
       "3178    524.95\n",
       "3179    525.11\n",
       "3180    525.28\n",
       "Name: y1, Length: 301, dtype: float64"
      ]
     },
     "execution_count": 42,
     "metadata": {},
     "output_type": "execute_result"
    }
   ],
   "source": [
    "sal6.groupby('y1_KBins')['y1'].get_group(7.0)"
   ]
  },
  {
   "cell_type": "code",
   "execution_count": 49,
   "id": "002b4041",
   "metadata": {
    "scrolled": false
   },
   "outputs": [
    {
     "data": {
      "text/plain": [
       "array([[<AxesSubplot:title={'center':'0'}>,\n",
       "        <AxesSubplot:title={'center':'1'}>,\n",
       "        <AxesSubplot:title={'center':'2'}>,\n",
       "        <AxesSubplot:title={'center':'3'}>,\n",
       "        <AxesSubplot:title={'center':'4'}>,\n",
       "        <AxesSubplot:title={'center':'5'}>,\n",
       "        <AxesSubplot:title={'center':'6'}>,\n",
       "        <AxesSubplot:title={'center':'7'}>,\n",
       "        <AxesSubplot:title={'center':'8'}>,\n",
       "        <AxesSubplot:title={'center':'9'}>,\n",
       "        <AxesSubplot:title={'center':'10'}>,\n",
       "        <AxesSubplot:title={'center':'11'}>],\n",
       "       [<AxesSubplot:title={'center':'12'}>,\n",
       "        <AxesSubplot:title={'center':'13'}>,\n",
       "        <AxesSubplot:title={'center':'14'}>,\n",
       "        <AxesSubplot:title={'center':'15'}>,\n",
       "        <AxesSubplot:title={'center':'16'}>,\n",
       "        <AxesSubplot:title={'center':'17'}>,\n",
       "        <AxesSubplot:title={'center':'18'}>,\n",
       "        <AxesSubplot:title={'center':'19'}>,\n",
       "        <AxesSubplot:title={'center':'20'}>,\n",
       "        <AxesSubplot:title={'center':'21'}>,\n",
       "        <AxesSubplot:title={'center':'22'}>,\n",
       "        <AxesSubplot:title={'center':'23'}>],\n",
       "       [<AxesSubplot:title={'center':'24'}>,\n",
       "        <AxesSubplot:title={'center':'25'}>,\n",
       "        <AxesSubplot:title={'center':'26'}>,\n",
       "        <AxesSubplot:title={'center':'27'}>,\n",
       "        <AxesSubplot:title={'center':'28'}>,\n",
       "        <AxesSubplot:title={'center':'29'}>,\n",
       "        <AxesSubplot:title={'center':'30'}>,\n",
       "        <AxesSubplot:title={'center':'31'}>,\n",
       "        <AxesSubplot:title={'center':'32'}>,\n",
       "        <AxesSubplot:title={'center':'33'}>,\n",
       "        <AxesSubplot:title={'center':'34'}>,\n",
       "        <AxesSubplot:title={'center':'35'}>],\n",
       "       [<AxesSubplot:title={'center':'36'}>,\n",
       "        <AxesSubplot:title={'center':'37'}>,\n",
       "        <AxesSubplot:title={'center':'38'}>,\n",
       "        <AxesSubplot:title={'center':'39'}>,\n",
       "        <AxesSubplot:title={'center':'40'}>,\n",
       "        <AxesSubplot:title={'center':'41'}>,\n",
       "        <AxesSubplot:title={'center':'42'}>,\n",
       "        <AxesSubplot:title={'center':'43'}>,\n",
       "        <AxesSubplot:title={'center':'44'}>,\n",
       "        <AxesSubplot:title={'center':'45'}>,\n",
       "        <AxesSubplot:title={'center':'46'}>,\n",
       "        <AxesSubplot:title={'center':'47'}>],\n",
       "       [<AxesSubplot:title={'center':'48'}>,\n",
       "        <AxesSubplot:title={'center':'49'}>,\n",
       "        <AxesSubplot:title={'center':'50'}>,\n",
       "        <AxesSubplot:title={'center':'51'}>,\n",
       "        <AxesSubplot:title={'center':'52'}>,\n",
       "        <AxesSubplot:title={'center':'53'}>,\n",
       "        <AxesSubplot:title={'center':'54'}>,\n",
       "        <AxesSubplot:title={'center':'55'}>,\n",
       "        <AxesSubplot:title={'center':'56'}>,\n",
       "        <AxesSubplot:title={'center':'57'}>,\n",
       "        <AxesSubplot:title={'center':'58'}>,\n",
       "        <AxesSubplot:title={'center':'59'}>],\n",
       "       [<AxesSubplot:title={'center':'60'}>,\n",
       "        <AxesSubplot:title={'center':'61'}>,\n",
       "        <AxesSubplot:title={'center':'62'}>,\n",
       "        <AxesSubplot:title={'center':'63'}>,\n",
       "        <AxesSubplot:title={'center':'64'}>,\n",
       "        <AxesSubplot:title={'center':'65'}>,\n",
       "        <AxesSubplot:title={'center':'66'}>,\n",
       "        <AxesSubplot:title={'center':'67'}>,\n",
       "        <AxesSubplot:title={'center':'68'}>,\n",
       "        <AxesSubplot:title={'center':'69'}>,\n",
       "        <AxesSubplot:title={'center':'70'}>,\n",
       "        <AxesSubplot:title={'center':'71'}>],\n",
       "       [<AxesSubplot:title={'center':'72'}>,\n",
       "        <AxesSubplot:title={'center':'73'}>,\n",
       "        <AxesSubplot:title={'center':'74'}>,\n",
       "        <AxesSubplot:title={'center':'75'}>,\n",
       "        <AxesSubplot:title={'center':'76'}>,\n",
       "        <AxesSubplot:title={'center':'77'}>,\n",
       "        <AxesSubplot:title={'center':'78'}>,\n",
       "        <AxesSubplot:title={'center':'79'}>,\n",
       "        <AxesSubplot:title={'center':'80'}>,\n",
       "        <AxesSubplot:title={'center':'81'}>,\n",
       "        <AxesSubplot:title={'center':'82'}>,\n",
       "        <AxesSubplot:title={'center':'83'}>],\n",
       "       [<AxesSubplot:title={'center':'84'}>,\n",
       "        <AxesSubplot:title={'center':'85'}>,\n",
       "        <AxesSubplot:title={'center':'86'}>,\n",
       "        <AxesSubplot:title={'center':'87'}>,\n",
       "        <AxesSubplot:title={'center':'88'}>,\n",
       "        <AxesSubplot:title={'center':'89'}>,\n",
       "        <AxesSubplot:title={'center':'90'}>,\n",
       "        <AxesSubplot:title={'center':'91'}>,\n",
       "        <AxesSubplot:title={'center':'92'}>,\n",
       "        <AxesSubplot:title={'center':'93'}>,\n",
       "        <AxesSubplot:title={'center':'94'}>,\n",
       "        <AxesSubplot:title={'center':'95'}>],\n",
       "       [<AxesSubplot:title={'center':'96'}>,\n",
       "        <AxesSubplot:title={'center':'97'}>,\n",
       "        <AxesSubplot:title={'center':'98'}>,\n",
       "        <AxesSubplot:title={'center':'99'}>,\n",
       "        <AxesSubplot:title={'center':'100'}>,\n",
       "        <AxesSubplot:title={'center':'101'}>,\n",
       "        <AxesSubplot:title={'center':'102'}>,\n",
       "        <AxesSubplot:title={'center':'103'}>,\n",
       "        <AxesSubplot:title={'center':'104'}>,\n",
       "        <AxesSubplot:title={'center':'105'}>,\n",
       "        <AxesSubplot:title={'center':'106'}>,\n",
       "        <AxesSubplot:title={'center':'107'}>],\n",
       "       [<AxesSubplot:title={'center':'108'}>,\n",
       "        <AxesSubplot:title={'center':'109'}>,\n",
       "        <AxesSubplot:title={'center':'110'}>,\n",
       "        <AxesSubplot:title={'center':'111'}>,\n",
       "        <AxesSubplot:title={'center':'112'}>,\n",
       "        <AxesSubplot:title={'center':'113'}>,\n",
       "        <AxesSubplot:title={'center':'114'}>,\n",
       "        <AxesSubplot:title={'center':'115'}>,\n",
       "        <AxesSubplot:title={'center':'116'}>,\n",
       "        <AxesSubplot:title={'center':'117'}>,\n",
       "        <AxesSubplot:title={'center':'118'}>,\n",
       "        <AxesSubplot:title={'center':'119'}>],\n",
       "       [<AxesSubplot:title={'center':'120'}>,\n",
       "        <AxesSubplot:title={'center':'121'}>,\n",
       "        <AxesSubplot:title={'center':'122'}>,\n",
       "        <AxesSubplot:title={'center':'123'}>,\n",
       "        <AxesSubplot:title={'center':'124'}>,\n",
       "        <AxesSubplot:title={'center':'125'}>,\n",
       "        <AxesSubplot:title={'center':'126'}>,\n",
       "        <AxesSubplot:title={'center':'127'}>,\n",
       "        <AxesSubplot:title={'center':'128'}>,\n",
       "        <AxesSubplot:title={'center':'129'}>,\n",
       "        <AxesSubplot:title={'center':'130'}>,\n",
       "        <AxesSubplot:title={'center':'131'}>],\n",
       "       [<AxesSubplot:title={'center':'132'}>,\n",
       "        <AxesSubplot:title={'center':'133'}>,\n",
       "        <AxesSubplot:title={'center':'134'}>,\n",
       "        <AxesSubplot:title={'center':'135'}>,\n",
       "        <AxesSubplot:title={'center':'136'}>,\n",
       "        <AxesSubplot:title={'center':'137'}>,\n",
       "        <AxesSubplot:title={'center':'138'}>,\n",
       "        <AxesSubplot:title={'center':'139'}>,\n",
       "        <AxesSubplot:title={'center':'140'}>, <AxesSubplot:>,\n",
       "        <AxesSubplot:>, <AxesSubplot:>]], dtype=object)"
      ]
     },
     "execution_count": 49,
     "metadata": {},
     "output_type": "execute_result"
    },
    {
     "data": {
      "image/png": "[encoded data removed]",
      "text/plain": [
       "<Figure size 432x288 with 144 Axes>"
      ]
     },
     "metadata": {
      "needs_background": "light"
     },
     "output_type": "display_data"
    }
   ],
   "source": [
    "y1_trans=[]\n",
    "group1=0\n",
    "for _ in sal6:\n",
    "    y1g = sal6.groupby('y1_KBins')['y1'].get_group(group1)\n",
    "    y1_g=stats.boxcox(y1g,lmbda=0.5)\n",
    "    y1_trans.append(y1_g)\n",
    "    group1 += 1\n",
    "y1_trans=pd.DataFrame(y1_trans)\n",
    "y1_trans.hist()"
   ]
  },
  {
   "cell_type": "code",
   "execution_count": 48,
   "id": "52c7607b",
   "metadata": {},
   "outputs": [
    {
     "data": {
      "text/plain": [
       "array([[<AxesSubplot:title={'center':'0'}>,\n",
       "        <AxesSubplot:title={'center':'1'}>,\n",
       "        <AxesSubplot:title={'center':'2'}>,\n",
       "        <AxesSubplot:title={'center':'3'}>,\n",
       "        <AxesSubplot:title={'center':'4'}>,\n",
       "        <AxesSubplot:title={'center':'5'}>,\n",
       "        <AxesSubplot:title={'center':'6'}>],\n",
       "       [<AxesSubplot:title={'center':'7'}>,\n",
       "        <AxesSubplot:title={'center':'8'}>,\n",
       "        <AxesSubplot:title={'center':'9'}>,\n",
       "        <AxesSubplot:title={'center':'10'}>,\n",
       "        <AxesSubplot:title={'center':'11'}>,\n",
       "        <AxesSubplot:title={'center':'12'}>,\n",
       "        <AxesSubplot:title={'center':'13'}>],\n",
       "       [<AxesSubplot:title={'center':'14'}>,\n",
       "        <AxesSubplot:title={'center':'15'}>,\n",
       "        <AxesSubplot:title={'center':'16'}>,\n",
       "        <AxesSubplot:title={'center':'17'}>,\n",
       "        <AxesSubplot:title={'center':'18'}>,\n",
       "        <AxesSubplot:title={'center':'19'}>,\n",
       "        <AxesSubplot:title={'center':'20'}>],\n",
       "       [<AxesSubplot:title={'center':'21'}>,\n",
       "        <AxesSubplot:title={'center':'22'}>,\n",
       "        <AxesSubplot:title={'center':'23'}>,\n",
       "        <AxesSubplot:title={'center':'24'}>,\n",
       "        <AxesSubplot:title={'center':'25'}>,\n",
       "        <AxesSubplot:title={'center':'26'}>,\n",
       "        <AxesSubplot:title={'center':'27'}>],\n",
       "       [<AxesSubplot:title={'center':'28'}>,\n",
       "        <AxesSubplot:title={'center':'29'}>,\n",
       "        <AxesSubplot:title={'center':'30'}>,\n",
       "        <AxesSubplot:title={'center':'31'}>,\n",
       "        <AxesSubplot:title={'center':'32'}>,\n",
       "        <AxesSubplot:title={'center':'33'}>,\n",
       "        <AxesSubplot:title={'center':'34'}>],\n",
       "       [<AxesSubplot:title={'center':'35'}>,\n",
       "        <AxesSubplot:title={'center':'36'}>,\n",
       "        <AxesSubplot:title={'center':'37'}>,\n",
       "        <AxesSubplot:title={'center':'38'}>,\n",
       "        <AxesSubplot:title={'center':'39'}>,\n",
       "        <AxesSubplot:title={'center':'40'}>,\n",
       "        <AxesSubplot:title={'center':'41'}>],\n",
       "       [<AxesSubplot:title={'center':'42'}>,\n",
       "        <AxesSubplot:title={'center':'43'}>,\n",
       "        <AxesSubplot:title={'center':'44'}>,\n",
       "        <AxesSubplot:title={'center':'45'}>,\n",
       "        <AxesSubplot:title={'center':'46'}>,\n",
       "        <AxesSubplot:title={'center':'47'}>,\n",
       "        <AxesSubplot:title={'center':'48'}>],\n",
       "       [<AxesSubplot:title={'center':'49'}>,\n",
       "        <AxesSubplot:title={'center':'50'}>,\n",
       "        <AxesSubplot:title={'center':'51'}>,\n",
       "        <AxesSubplot:title={'center':'52'}>,\n",
       "        <AxesSubplot:title={'center':'53'}>,\n",
       "        <AxesSubplot:title={'center':'54'}>, <AxesSubplot:>]],\n",
       "      dtype=object)"
      ]
     },
     "execution_count": 48,
     "metadata": {},
     "output_type": "execute_result"
    },
    {
     "data": {
      "image/png": "[encoded data removed]",
      "text/plain": [
       "<Figure size 432x288 with 56 Axes>"
      ]
     },
     "metadata": {
      "needs_background": "light"
     },
     "output_type": "display_data"
    }
   ],
   "source": [
    "y2_trans=[]\n",
    "group2=0\n",
    "for _ in sal6:\n",
    "    y2g = sal6.groupby('y2_KBins')['y2'].get_group(group2)\n",
    "    y2_g=stats.boxcox(y2g,lmbda=0.5)\n",
    "    y2_trans.append(y2_g)\n",
    "    group2 += 1\n",
    "y2_trans=pd.DataFrame(y2_trans)\n",
    "y2_trans.hist()"
   ]
  },
  {
   "cell_type": "markdown",
   "id": "bbcd6a67",
   "metadata": {},
   "source": [
    "### 7.- Crear un DataFrame de pandas con los datos de x1, y1 y la agrupación que usted elija (justifique su elección). Hacer lo mismo para los datos x2, y2 y la agrupación elegida."
   ]
  },
  {
   "cell_type": "code",
   "execution_count": null,
   "id": "efedcd80",
   "metadata": {},
   "outputs": [],
   "source": []
  }
 ],
 "metadata": {
  "kernelspec": {
   "display_name": "Python 3",
   "language": "python",
   "name": "python3"
  },
  "language_info": {
   "codemirror_mode": {
    "name": "ipython",
    "version": 3
   },
   "file_extension": ".py",
   "mimetype": "text/x-python",
   "name": "python",
   "nbconvert_exporter": "python",
   "pygments_lexer": "ipython3",
   "version": "3.7.6"
  }
 },
 "nbformat": 4,
 "nbformat_minor": 5
}
